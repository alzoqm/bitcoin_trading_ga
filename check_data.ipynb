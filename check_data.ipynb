{
 "cells": [
  {
   "cell_type": "code",
   "execution_count": 1,
   "metadata": {},
   "outputs": [],
   "source": [
    "# train.py\n",
    "\n",
    "import os\n",
    "import torch\n",
    "import numpy as np\n",
    "import warnings\n",
    "warnings.filterwarnings(action='ignore')\n",
    "\n",
    "from data_loader import load_data_1m\n",
    "from feature_calculations import (\n",
    "    resample_data, calculate_MA_data, calculate_ema_bollinger_bands, calculate_rsi,\n",
    "    calculate_macd, calculate_stochastic_oscillator, calculate_adx, calculate_atr,\n",
    "    calculate_obv, calculate_williams_r, base_feature_fn, cyclic_encode_fn, log_transform\n",
    ")\n",
    "from strategies import BB_fitness_fn, BB_MACD_fitness_fn\n",
    "from dataset import make_dataset, replace_nan_with_zero\n",
    "from train_functions_bi_cul_split import inference, fitness_fn, generation_valid, generation_test\n",
    "\n",
    "from Prescriptor import Prescriptor\n",
    "from Evolution.crossover import UniformCrossover, WeightedSumCrossover, DifferentialEvolutionOperator, CenDE_DOBLOperator\n",
    "from Evolution.mutation import MultiplyNormalMutation, MultiplyUniformMutation, AddNormalMutation, AddUniformMutation, ChainMutation, FlipSignMutation\n",
    "from Evolution.mutation import RandomValueMutation\n",
    "from Evolution.selection import RouletteSelection, TournamentSelection, ParetoLexsortSelection\n",
    "from Evolution import Evolution"
   ]
  },
  {
   "cell_type": "code",
   "execution_count": 25,
   "metadata": {},
   "outputs": [
    {
     "name": "stderr",
     "output_type": "stream",
     "text": [
      "100%|██████████| 200000/200000 [00:22<00:00, 8705.25it/s]\n"
     ]
    }
   ],
   "source": [
    "# Load Data\n",
    "data_1m = load_data_1m('/root/daily/bit/data/1min_bitusdt.pkl')\n",
    "data_1m = data_1m.iloc[:200000]\n",
    "\n",
    "# Resample data to 1D\n",
    "data_1d = resample_data(data_1m, '1D')\n",
    "data_1d['Close time'] = data_1d.index\n",
    "data_1d = data_1d.reset_index(drop=True)\n",
    "\n",
    "# Apply Feature Calculations\n",
    "# For 1D Data\n",
    "\n",
    "data_1d, base_feature_1d = base_feature_fn(data_1d, extra_str='_1d', alpha=10)\n",
    "data_1d, cyclice_encoding_1d = cyclic_encode_fn(data_1d, 'Close time', 'day_of_week')\n",
    "\n",
    "# For 1M Data\n",
    "data_1m, bb_cols, bb_cols_rel = calculate_ema_bollinger_bands(data_1m, 240)\n",
    "data_1m, macd_cols = calculate_macd(data_1m, 60, 600, 240)\n",
    "data_1m, base_feature = base_feature_fn(data_1m, alpha=100)\n",
    "data_1m, cyclice_encoding = cyclic_encode_fn(data_1m, 'Open time')\n",
    "\n",
    "data_1m, short_ma_cols, short_ma_cols_rel = calculate_MA_data(data_1m, 60, 'EMA')\n",
    "data_1m, long_ma_cols, long_ma_cols_rel = calculate_MA_data(data_1m, 180, 'EMA')\n",
    "\n",
    "# data_1m, short_ma_cols, short_ma_cols_rel = calculate_MA_data(data_1m, 20, 'EMA')\n",
    "# data_1m, long_ma_cols, long_ma_cols_rel = calculate_MA_data(data_1m, 60, 'EMA')\n",
    "# data_1m, _, _ = calculate_ema_bollinger_bands(data_1m, 60)\n",
    "\n",
    "# Prepare Feature Columns\n",
    "drop_column = [\n",
    "    'Open time', 'Close time', 'Quote asset volume', 'Ignore',\n",
    "    'Number of trades', 'Taker buy base asset volume', 'Taker buy quote asset volume'\n",
    "]\n",
    "\n",
    "test_column = ['Quote asset volume', 'Number of trades', 'Taker buy base asset volume',\n",
    "               'Taker buy quote asset volume']\n",
    "feature_column = (\n",
    "    test_column + cyclice_encoding + base_feature  # Excluding obv and atr\n",
    ")\n",
    "feature_column_1d = (\n",
    "    test_column + cyclice_encoding_1d + base_feature_1d\n",
    ")\n",
    "\n",
    "\n",
    "\n",
    "\n",
    "# bb_entry_pos_list, patience_list, bb_entry_index_list = BB_fitness_fn(data_1m)\n",
    "bb_macd_entry_pos_list, patience_list, bb_macd_entry_index_list = BB_MACD_fitness_fn(data_1m, 240, 60, 180)\n",
    "# bb_macd_entry_pos_list, patience_list, bb_macd_entry_index_list = BB_MACD_fitness_fn(data_1m, 60, 20, 60)\n",
    "\n",
    "# Prepare Dataset\n",
    "data_tensor = make_dataset(\n",
    "    data_1m, data_1d,\n",
    "    using_column=feature_column, using_column_1d=feature_column_1d,\n",
    "    window_size=240, window_size_1d=60,\n",
    "    entry_pos_list=bb_macd_entry_pos_list, patience_list=patience_list,\n",
    "    use_1d_data=True\n",
    ")\n",
    "entry_pos_list = np.array(bb_macd_entry_pos_list)[np.array(bb_macd_entry_pos_list) != 'hold']\n",
    "\n",
    "dataset_1m = []\n",
    "dataset_1d = []\n",
    "skip_data_cnt = 0\n",
    "for data in data_tensor:\n",
    "    if len(data[0]) == 240 and len(data[1]) == 60:\n",
    "        dataset_1m.append(torch.from_numpy(data[0]).unsqueeze(dim=0))\n",
    "        dataset_1d.append(torch.from_numpy(data[1]).unsqueeze(dim=0))\n",
    "    else:\n",
    "        skip_data_cnt += 1\n",
    "dataset_1m = torch.cat(dataset_1m, dim=0)\n",
    "dataset_1d = torch.cat(dataset_1d, dim=0)\n",
    "dataset_1m = replace_nan_with_zero(dataset_1m)\n",
    "dataset_1d = replace_nan_with_zero(dataset_1d)\n",
    "\n",
    "dataset_1m[:, :, :4] = dataset_1m[:, :, :4] / dataset_1m[:, :, :4][:, -1].unsqueeze(dim=1)\n",
    "dataset_1d[:, :, :4] = dataset_1d[:, :, :4] / dataset_1d[:, :, :4][:, -1].unsqueeze(dim=1)"
   ]
  },
  {
   "cell_type": "code",
   "execution_count": 36,
   "metadata": {},
   "outputs": [
    {
     "data": {
      "text/plain": [
       "torch.Size([1394, 240, 14])"
      ]
     },
     "execution_count": 36,
     "metadata": {},
     "output_type": "execute_result"
    }
   ],
   "source": [
    "dataset_1m.shape"
   ]
  },
  {
   "cell_type": "code",
   "execution_count": 37,
   "metadata": {},
   "outputs": [
    {
     "data": {
      "text/plain": [
       "torch.Size([1394, 60, 14])"
      ]
     },
     "execution_count": 37,
     "metadata": {},
     "output_type": "execute_result"
    }
   ],
   "source": [
    "dataset_1d.shape"
   ]
  },
  {
   "cell_type": "code",
   "execution_count": null,
   "metadata": {},
   "outputs": [],
   "source": []
  }
 ],
 "metadata": {
  "kernelspec": {
   "display_name": "Python 3",
   "language": "python",
   "name": "python3"
  },
  "language_info": {
   "codemirror_mode": {
    "name": "ipython",
    "version": 3
   },
   "file_extension": ".py",
   "mimetype": "text/x-python",
   "name": "python",
   "nbconvert_exporter": "python",
   "pygments_lexer": "ipython3",
   "version": "3.8.10"
  }
 },
 "nbformat": 4,
 "nbformat_minor": 2
}
