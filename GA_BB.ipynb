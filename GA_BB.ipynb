{
 "cells": [
  {
   "cell_type": "code",
   "execution_count": 2,
   "metadata": {},
   "outputs": [],
   "source": [
    "import pandas as pd\n",
    "import numpy as np\n",
    "import matplotlib.pyplot as plt\n",
    "import mplfinance as mpf\n",
    "import torch.nn as nn\n",
    "import torch\n",
    "import sklearn.preprocessing as preprocessing\n",
    "import os\n",
    "\n",
    "from tqdm import tqdm\n",
    "from sklearn.preprocessing import StandardScaler, MinMaxScaler\n",
    "from torch.utils.data import Dataset, DataLoader\n",
    "\n",
    "\n",
    "import warnings\n",
    "warnings.filterwarnings(action='ignore')\n",
    "from copy import deepcopy\n",
    "\n",
    "from Prescriptor import Prescriptor\n",
    "from Evolution.crossover import UniformCrossover, WeightedSumCrossover\n",
    "from Evolution.mutation import MultiplyNormalMutation, MultiplyUniformMutation, AddNormalMutation, AddUniformMutation, ChainMutation, FlipSignMutation\n",
    "from Evolution.selection import RouletteSelection, TournamentSelection, ParetoLexsortSelection\n",
    "from Evolution import Evolution"
   ]
  },
  {
   "cell_type": "code",
   "execution_count": 3,
   "metadata": {},
   "outputs": [],
   "source": [
    "# train.py\n",
    "\n",
    "import os\n",
    "import torch\n",
    "import numpy as np\n",
    "import warnings\n",
    "warnings.filterwarnings(action='ignore')\n",
    "\n",
    "from data_loader import load_data_1m\n",
    "from feature_calculations import (\n",
    "    resample_data, calculate_MA_data, calculate_ema_bollinger_bands, calculate_rsi,\n",
    "    calculate_macd, calculate_stochastic_oscillator, calculate_adx, calculate_atr,\n",
    "    calculate_obv, calculate_williams_r, base_feature_fn, cyclic_encode_fn, log_transform\n",
    ")\n",
    "from strategies import BB_fitness_fn\n",
    "from dataset import make_dataset, replace_nan_with_zero\n",
    "from train_functions_bi_cul import inference, fitness_fn, generation_valid, generation_test, calculate_fitness\n",
    "\n",
    "from Prescriptor import Prescriptor\n",
    "from Evolution.crossover import UniformCrossover, WeightedSumCrossover\n",
    "from Evolution.mutation import MultiplyNormalMutation, MultiplyUniformMutation, AddNormalMutation, AddUniformMutation, ChainMutation, FlipSignMutation\n",
    "from Evolution.selection import RouletteSelection, TournamentSelection, ParetoLexsortSelection\n",
    "from Evolution import Evolution\n",
    "\n",
    "\n"
   ]
  },
  {
   "cell_type": "code",
   "execution_count": 4,
   "metadata": {},
   "outputs": [],
   "source": [
    "state_dict_path = '/root/daily/bit_5/generation/generation_49.pt'\n",
    "if os.path.exists(state_dict_path):\n",
    "    state_dict = torch.load(state_dict_path)\n",
    "    start_gen_idx = state_dict['generation'] + 1\n",
    "    best_profit = state_dict['best_profit']\n",
    "    best_chromosomes = state_dict['best_chromosomes']\n",
    "    # prescriptor.load_state_dict(state_dict['prescriptor_state_dict'],strict=True)"
   ]
  },
  {
   "cell_type": "code",
   "execution_count": 5,
   "metadata": {},
   "outputs": [
    {
     "data": {
      "text/plain": [
       "tensor([[-1.0000e+09, -1.0000e+09, -1.0000e+09,  1.0000e+09, -1.0000e+09],\n",
       "        [-1.0000e+09, -1.0000e+09, -1.0000e+09,  1.0000e+09, -1.0000e+09],\n",
       "        [-1.0000e+09, -1.0000e+09, -1.0000e+09,  1.0000e+09, -1.0000e+09],\n",
       "        [-1.0000e+09, -1.0000e+09, -1.0000e+09,  1.0000e+09, -1.0000e+09],\n",
       "        [-1.0000e+09, -1.0000e+09, -1.0000e+09,  1.0000e+09, -1.0000e+09],\n",
       "        [-1.0000e+09, -1.0000e+09, -1.0000e+09,  1.0000e+09, -1.0000e+09],\n",
       "        [-1.4313e+00,  5.0607e-01,  4.9333e-01,  1.2430e+02,  2.8206e-01],\n",
       "        [-1.0000e+09, -1.0000e+09, -1.0000e+09,  1.0000e+09, -1.0000e+09],\n",
       "        [-1.0000e+09, -1.0000e+09, -1.0000e+09,  1.0000e+09, -1.0000e+09],\n",
       "        [-1.0000e+09, -1.0000e+09, -1.0000e+09,  1.0000e+09, -1.0000e+09],\n",
       "        [-1.0000e+09, -1.0000e+09, -1.0000e+09,  1.0000e+09, -1.0000e+09],\n",
       "        [-1.0000e+09, -1.0000e+09, -1.0000e+09,  1.0000e+09, -1.0000e+09]])"
      ]
     },
     "execution_count": 5,
     "metadata": {},
     "output_type": "execute_result"
    }
   ],
   "source": [
    "best_profit"
   ]
  },
  {
   "cell_type": "code",
   "execution_count": 4,
   "metadata": {},
   "outputs": [],
   "source": [
    "optimal_solution = best_profit[(best_profit[:, 4] > 0.8) & (best_profit[:, 3] <= 40)]\n",
    "optimal_index = torch.where((best_profit[:, 4] > 0.8) & (best_profit[:, 3] <= 40))[0]"
   ]
  },
  {
   "cell_type": "code",
   "execution_count": 5,
   "metadata": {},
   "outputs": [
    {
     "data": {
      "text/plain": [
       "tensor([], dtype=torch.int64)"
      ]
     },
     "execution_count": 5,
     "metadata": {},
     "output_type": "execute_result"
    }
   ],
   "source": [
    "optimal_index"
   ]
  },
  {
   "cell_type": "code",
   "execution_count": 29,
   "metadata": {},
   "outputs": [
    {
     "data": {
      "text/plain": [
       "tensor([1.7716, 3.1858, 0.9203, 0.9005, 0.8122, 1.1523, 0.8795, 0.8505, 1.2092,\n",
       "        0.9597, 0.9444, 1.1975, 1.6272, 0.8660, 2.1316, 0.9200, 1.0717, 1.6610,\n",
       "        1.5866, 1.0020, 3.2361])"
      ]
     },
     "execution_count": 29,
     "metadata": {},
     "output_type": "execute_result"
    }
   ],
   "source": [
    "best_profit[optimal_index][:, 4]"
   ]
  },
  {
   "cell_type": "code",
   "execution_count": 30,
   "metadata": {},
   "outputs": [],
   "source": [
    "fitness = calculate_fitness(deepcopy(optimal_solution.numpy()))\n",
    "fitness_index = np.argsort(-fitness)"
   ]
  },
  {
   "cell_type": "code",
   "execution_count": 32,
   "metadata": {},
   "outputs": [],
   "source": [
    "index = 0"
   ]
  },
  {
   "cell_type": "code",
   "execution_count": 33,
   "metadata": {},
   "outputs": [
    {
     "data": {
      "text/plain": [
       "tensor(3.0549)"
      ]
     },
     "execution_count": 33,
     "metadata": {},
     "output_type": "execute_result"
    }
   ],
   "source": [
    "optimal_solution[fitness_index][:, 0][index]"
   ]
  },
  {
   "cell_type": "code",
   "execution_count": 34,
   "metadata": {},
   "outputs": [
    {
     "data": {
      "text/plain": [
       "tensor(2.5397)"
      ]
     },
     "execution_count": 34,
     "metadata": {},
     "output_type": "execute_result"
    }
   ],
   "source": [
    "optimal_solution[fitness_index][:, 1][index]"
   ]
  },
  {
   "cell_type": "code",
   "execution_count": 35,
   "metadata": {},
   "outputs": [
    {
     "data": {
      "text/plain": [
       "tensor(0.5400)"
      ]
     },
     "execution_count": 35,
     "metadata": {},
     "output_type": "execute_result"
    }
   ],
   "source": [
    "optimal_solution[fitness_index][:, 2][index]"
   ]
  },
  {
   "cell_type": "code",
   "execution_count": 36,
   "metadata": {},
   "outputs": [
    {
     "data": {
      "text/plain": [
       "tensor(27.6071)"
      ]
     },
     "execution_count": 36,
     "metadata": {},
     "output_type": "execute_result"
    }
   ],
   "source": [
    "optimal_solution[fitness_index][:, 3][index]"
   ]
  },
  {
   "cell_type": "code",
   "execution_count": 37,
   "metadata": {},
   "outputs": [
    {
     "data": {
      "text/plain": [
       "tensor(3.2361)"
      ]
     },
     "execution_count": 37,
     "metadata": {},
     "output_type": "execute_result"
    }
   ],
   "source": [
    "optimal_solution[fitness_index][:, 4][index]"
   ]
  },
  {
   "cell_type": "code",
   "execution_count": null,
   "metadata": {},
   "outputs": [],
   "source": []
  }
 ],
 "metadata": {
  "kernelspec": {
   "display_name": "Python 3",
   "language": "python",
   "name": "python3"
  },
  "language_info": {
   "codemirror_mode": {
    "name": "ipython",
    "version": 3
   },
   "file_extension": ".py",
   "mimetype": "text/x-python",
   "name": "python",
   "nbconvert_exporter": "python",
   "pygments_lexer": "ipython3",
   "version": "3.8.10"
  }
 },
 "nbformat": 4,
 "nbformat_minor": 2
}
