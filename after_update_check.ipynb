{
 "cells": [
  {
   "cell_type": "code",
   "execution_count": 1,
   "metadata": {},
   "outputs": [],
   "source": [
    "import numpy as pd\n",
    "import torch\n",
    "import torch.nn as nn\n",
    "\n",
    "from copy import deepcopy\n",
    "\n",
    "from Prescriptor import Prescriptor\n",
    "from Evolution.crossover import UniformCrossover, WeightedSumCrossover\n",
    "from Evolution.mutation import MultiplyNormalMutation, MultiplyUniformMutation, AddNormalMutation, AddUniformMutation, ChainMutation, FlipSignMutation\n",
    "from Evolution.selection import RouletteSelection, TournamentSelection\n",
    "from Evolution import Evolution"
   ]
  },
  {
   "cell_type": "code",
   "execution_count": 2,
   "metadata": {},
   "outputs": [],
   "source": [
    "chromosomes_size = 3\n",
    "index = [1, 0, 2]\n",
    "fitness = [1, 0, 2]"
   ]
  },
  {
   "cell_type": "code",
   "execution_count": 3,
   "metadata": {},
   "outputs": [],
   "source": [
    "x = torch.arange(0, 9, step=1).reshape(chromosomes_size, 3).unsqueeze(dim=0).float()\n",
    "after_x = x[:, index]\n",
    "# model = nn.Conv1d(3*chromosomes_size, 2*chromosomes_size, kernel_size=1, stride=1, groups=chromosomes_size)\n",
    "model = torch.nn.Sequential(\n",
    "    nn.Conv1d(3*chromosomes_size, 2*chromosomes_size, kernel_size=1, stride=1, groups=chromosomes_size),\n",
    "    nn.Conv1d(2*chromosomes_size, 3*chromosomes_size, kernel_size=1, stride=1, groups=chromosomes_size)\n",
    "                            )\n",
    "model.eval()\n",
    "model.requires_grad=False\n",
    "init_model = deepcopy(model)\n",
    "with torch.no_grad():\n",
    "    init_out = model(x.reshape(1, -1, 1))"
   ]
  },
  {
   "cell_type": "code",
   "execution_count": 4,
   "metadata": {},
   "outputs": [],
   "source": [
    "after_shape_each_layer = []\n",
    "after_num_each_layer = []\n",
    "for name, param in model.named_parameters():\n",
    "    size = list(param.size())\n",
    "    after_shape_each_layer.append(size)\n",
    "    after_num_each_layer.append(param.numel())"
   ]
  },
  {
   "cell_type": "code",
   "execution_count": 9,
   "metadata": {},
   "outputs": [],
   "source": [
    "device = next(model.parameters()).device\n",
    "model.cpu()\n",
    "with torch.no_grad():\n",
    "    chromosomes = []\n",
    "    ch = model\n",
    "    for name, param in ch.named_parameters():\n",
    "        param = param.flatten().reshape(chromosomes_size, -1)\n",
    "        chromosomes.append(param)\n",
    "    chromosomes = torch.concat(chromosomes, dim=1)\n",
    "chromosomes = chromosomes[index]"
   ]
  },
  {
   "cell_type": "code",
   "execution_count": 10,
   "metadata": {},
   "outputs": [],
   "source": [
    "with torch.no_grad():\n",
    "    torch_chromosomes = []\n",
    "    ch = model\n",
    "    for name, param in ch.named_parameters():\n",
    "        param = param.flatten().reshape(chromosomes_size, -1)\n",
    "        torch_chromosomes.append(param)\n",
    "    torch_chromosomes = torch.concat(torch_chromosomes, dim=1)\n",
    "torch_chromosomes = torch_chromosomes[index]"
   ]
  },
  {
   "cell_type": "code",
   "execution_count": 12,
   "metadata": {},
   "outputs": [
    {
     "name": "stderr",
     "output_type": "stream",
     "text": [
      "/usr/local/lib/python3.8/dist-packages/torch/nn/modules/module.py:1383: UserWarning: positional arguments and argument \"destination\" are deprecated. nn.Module.state_dict will not accept them in the future. Refer to https://pytorch.org/docs/master/generated/torch.nn.Module.html#torch.nn.Module.state_dict for details.\n",
      "  warnings.warn(\n"
     ]
    },
    {
     "data": {
      "text/plain": [
       "<All keys matched successfully>"
      ]
     },
     "execution_count": 12,
     "metadata": {},
     "output_type": "execute_result"
    }
   ],
   "source": [
    "sd = model.state_dict()\n",
    "split_base = 0\n",
    "for idx_sd, param_name in enumerate(sd):\n",
    "    split_margin = split_base + after_num_each_layer[idx_sd] // chromosomes_size\n",
    "    param = chromosomes[:, split_base:split_margin].reshape(after_shape_each_layer[idx_sd])\n",
    "    sd[param_name] = param\n",
    "    split_base = split_margin\n",
    "model.load_state_dict(sd)"
   ]
  },
  {
   "cell_type": "code",
   "execution_count": null,
   "metadata": {},
   "outputs": [],
   "source": []
  },
  {
   "cell_type": "code",
   "execution_count": 20,
   "metadata": {},
   "outputs": [
    {
     "name": "stderr",
     "output_type": "stream",
     "text": [
      "/usr/local/lib/python3.8/dist-packages/torch/nn/modules/module.py:1383: UserWarning: positional arguments and argument \"destination\" are deprecated. nn.Module.state_dict will not accept them in the future. Refer to https://pytorch.org/docs/master/generated/torch.nn.Module.html#torch.nn.Module.state_dict for details.\n",
      "  warnings.warn(\n"
     ]
    },
    {
     "data": {
      "text/plain": [
       "<All keys matched successfully>"
      ]
     },
     "execution_count": 20,
     "metadata": {},
     "output_type": "execute_result"
    }
   ],
   "source": [
    "# Update after layers\n",
    "sd = model.state_dict()\n",
    "split_base = 0\n",
    "for idx_sd, param_name in enumerate(sd):\n",
    "    split_margin = split_base + after_num_each_layer[idx_sd] // chromosomes_size\n",
    "    param = chromosomes[:, split_base:split_margin].reshape(after_shape_each_layer[idx_sd])\n",
    "    sd[param_name] = param\n",
    "    split_base = split_margin\n",
    "model.load_state_dict(sd)"
   ]
  },
  {
   "cell_type": "code",
   "execution_count": 21,
   "metadata": {},
   "outputs": [],
   "source": [
    "model.eval()\n",
    "with torch.no_grad():\n",
    "    after_out = model(after_x.reshape(1, -1, 1))"
   ]
  },
  {
   "cell_type": "code",
   "execution_count": 22,
   "metadata": {},
   "outputs": [
    {
     "data": {
      "text/plain": [
       "tensor([[[ 0.1007],\n",
       "         [-0.4575],\n",
       "         [ 0.3629],\n",
       "         [ 1.5556],\n",
       "         [-1.0292],\n",
       "         [-0.9668],\n",
       "         [ 2.5570],\n",
       "         [ 0.0846],\n",
       "         [ 0.7617]]])"
      ]
     },
     "execution_count": 22,
     "metadata": {},
     "output_type": "execute_result"
    }
   ],
   "source": [
    "init_out"
   ]
  },
  {
   "cell_type": "code",
   "execution_count": 23,
   "metadata": {},
   "outputs": [
    {
     "data": {
      "text/plain": [
       "tensor([[[ 1.5556],\n",
       "         [-1.0292],\n",
       "         [-0.9668],\n",
       "         [ 0.1007],\n",
       "         [-0.4575],\n",
       "         [ 0.3629],\n",
       "         [ 2.5570],\n",
       "         [ 0.0846],\n",
       "         [ 0.7617]]])"
      ]
     },
     "execution_count": 23,
     "metadata": {},
     "output_type": "execute_result"
    }
   ],
   "source": [
    "after_out"
   ]
  },
  {
   "cell_type": "code",
   "execution_count": null,
   "metadata": {},
   "outputs": [],
   "source": []
  }
 ],
 "metadata": {
  "kernelspec": {
   "display_name": "Python 3",
   "language": "python",
   "name": "python3"
  },
  "language_info": {
   "codemirror_mode": {
    "name": "ipython",
    "version": 3
   },
   "file_extension": ".py",
   "mimetype": "text/x-python",
   "name": "python",
   "nbconvert_exporter": "python",
   "pygments_lexer": "ipython3",
   "version": "3.8.10"
  }
 },
 "nbformat": 4,
 "nbformat_minor": 2
}
