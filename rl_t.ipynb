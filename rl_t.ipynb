{
 "cells": [
  {
   "cell_type": "code",
   "execution_count": 1,
   "metadata": {},
   "outputs": [],
   "source": [
    "# train.py\n",
    "\n",
    "import os\n",
    "import torch\n",
    "import numpy as np\n",
    "import pandas as pd\n",
    "import warnings\n",
    "warnings.filterwarnings(action='ignore')\n",
    "\n",
    "from data_loader import load_data_1m\n",
    "from feature_calculations import (\n",
    "    resample_data, calculate_MA_data, calculate_ema_bollinger_bands, calculate_rsi,\n",
    "    calculate_macd, calculate_stochastic_oscillator, calculate_adx, calculate_atr,\n",
    "    calculate_obv, calculate_williams_r, base_feature_fn, cyclic_encode_fn, log_transform\n",
    ")\n",
    "from strategies import BB_fitness_fn, BB_MACD_fitness_fn\n",
    "from dataset import make_dataset, replace_nan_with_zero\n",
    "from train_functions import inference, fitness_fn, generation_valid, generation_test\n",
    "\n",
    "from Prescriptor import Prescriptor, ChromosomeSelectorModel\n",
    "from Evolution.crossover import UniformCrossover, WeightedSumCrossover, DifferentialEvolutionOperator\n",
    "from Evolution.mutation import MultiplyNormalMutation, MultiplyUniformMutation, AddNormalMutation, AddUniformMutation, ChainMutation, FlipSignMutation\n",
    "from Evolution.mutation import RandomValueMutation\n",
    "from Evolution.selection import RouletteSelection, TournamentSelection, ParetoLexsortSelection\n",
    "from Evolution import Evolution\n",
    "\n",
    "\n",
    "import os\n",
    "os.environ['CUDA_LAUNCH_BLOCKING'] = \"1\""
   ]
  },
  {
   "cell_type": "code",
   "execution_count": 2,
   "metadata": {},
   "outputs": [],
   "source": [
    "import torch.optim as optim\n",
    "import torch.nn.functional as F\n",
    "import torch.nn as nn\n"
   ]
  },
  {
   "cell_type": "code",
   "execution_count": 3,
   "metadata": {},
   "outputs": [],
   "source": [
    "sample_step=100\n",
    "size=8\n",
    "epochs=100\n",
    "max_selected = 5  # Number of chromosomes to select\n",
    "accumulation_steps = 8  # Number of steps to accumulate gradients\n",
    "# random_index = make_sample(len(dataset_1m), sample_step=sample_step, batch_size=size)\n",
    "device = 'cuda:1'\n",
    "window_size=240"
   ]
  },
  {
   "cell_type": "code",
   "execution_count": 4,
   "metadata": {},
   "outputs": [
    {
     "name": "stderr",
     "output_type": "stream",
     "text": [
      "100%|██████████| 100000/100000 [00:11<00:00, 8811.00it/s]\n"
     ]
    }
   ],
   "source": [
    "# Load Data\n",
    "data_1m = load_data_1m('/root/daily/bit/data/1min_bitusdt.pkl')\n",
    "data_1m = data_1m.iloc[:100000]\n",
    "\n",
    "# Resample data to 1D\n",
    "data_1d = resample_data(data_1m, '1D')\n",
    "data_1d['Close time'] = data_1d.index\n",
    "data_1d = data_1d.reset_index(drop=True)\n",
    "\n",
    "# Apply Feature Calculations\n",
    "# For 1D Data\n",
    "data_1d, ma_cols_1d, ma_cols_rel_1d = calculate_MA_data(data_1d, 60, 'EMA', '_1d')\n",
    "data_1d, bb_cols_1d, bb_cols_rel_1d = calculate_ema_bollinger_bands(data_1d, 60, extra_str='_1d')\n",
    "data_1d, rsi_cols_1d = calculate_rsi(data_1d, window=20, extra_str='_1d')\n",
    "data_1d, macd_cols_1d = calculate_macd(data_1d, 20, 120, 60, extra_str='_1d')\n",
    "data_1d, stoch_cols_1d = calculate_stochastic_oscillator(data_1d, 60, 20, extra_str='_1d')\n",
    "data_1d, adx_cols_1d = calculate_adx(data_1d, 60, extra_str='_1d')\n",
    "data_1d, atr_cols_1d = calculate_atr(data_1d, 60, extra_str='_1d')\n",
    "data_1d, obv_cols_1d = calculate_obv(data_1d, extra_str='_1d')\n",
    "data_1d, will_cols_1d = calculate_williams_r(data_1d, 60, extra_str='_1d')\n",
    "data_1d, base_feature_1d = base_feature_fn(data_1d, extra_str='_1d')\n",
    "data_1d, cyclice_encoding_1d = cyclic_encode_fn(data_1d, 'Close time', 'day_of_year')\n",
    "\n",
    "# For 1M Data\n",
    "data_1m, ma_cols, ma_cols_rel = calculate_MA_data(data_1m, 240, 'EMA')\n",
    "data_1m, bb_cols, bb_cols_rel = calculate_ema_bollinger_bands(data_1m, 240)\n",
    "data_1m, rsi_cols = calculate_rsi(data_1m, window=60)\n",
    "data_1m, macd_cols = calculate_macd(data_1m, 60, 600, 240)\n",
    "data_1m, stoch_cols = calculate_stochastic_oscillator(data_1m, 240, 60)\n",
    "data_1m, adx_cols = calculate_adx(data_1m, 240)\n",
    "data_1m, atr_cols = calculate_atr(data_1m, 240)\n",
    "data_1m, obv_cols = calculate_obv(data_1m)\n",
    "data_1m, will_cols = calculate_williams_r(data_1m, 240)\n",
    "data_1m, base_feature = base_feature_fn(data_1m)\n",
    "data_1m, cyclice_encoding = cyclic_encode_fn(data_1m, 'Open time')\n",
    "\n",
    "data_1m, short_ma_cols, short_ma_cols_rel = calculate_MA_data(data_1m, 60, 'EMA')\n",
    "data_1m, long_ma_cols, long_ma_cols_rel = calculate_MA_data(data_1m, 180, 'EMA')\n",
    "\n",
    "# Prepare Feature Columns\n",
    "drop_column = [\n",
    "    'Open time', 'Close time', 'Quote asset volume', 'Ignore',\n",
    "    'Number of trades', 'Taker buy base asset volume', 'Taker buy quote asset volume'\n",
    "]\n",
    "feature_column = (\n",
    "    ma_cols_rel + bb_cols_rel + rsi_cols + macd_cols + stoch_cols +\n",
    "    adx_cols + will_cols + base_feature + cyclice_encoding  # Excluding obv and atr\n",
    ")\n",
    "feature_column_1d = (\n",
    "    ma_cols_rel_1d + bb_cols_rel_1d + rsi_cols_1d + macd_cols_1d + stoch_cols_1d +\n",
    "    adx_cols_1d + will_cols_1d + base_feature_1d + cyclice_encoding_1d\n",
    ")\n",
    "\n",
    "\n",
    "# Apply Log Transform\n",
    "for feature in feature_column:\n",
    "    data_1m[feature] = log_transform(data_1m[feature])\n",
    "\n",
    "for feature in feature_column_1d:\n",
    "    data_1d[feature] = log_transform(data_1d[feature])\n",
    "\n",
    "# bb_entry_pos_list, patience_list, bb_entry_index_list = BB_fitness_fn(data_1m)\n",
    "bb_macd_entry_pos_list, patience_list, bb_macd_entry_index_list = BB_MACD_fitness_fn(data_1m, 240, 60, 180)\n",
    "\n",
    "# Prepare Dataset\n",
    "data_tensor = make_dataset(\n",
    "    data_1m, data_1d,\n",
    "    using_column=feature_column, using_column_1d=feature_column_1d,\n",
    "    window_size=240, window_size_1d=60,\n",
    "    entry_pos_list=bb_macd_entry_pos_list, patience_list=patience_list,\n",
    "    use_1d_data=True\n",
    ")\n",
    "entry_pos_list = np.array(bb_macd_entry_pos_list)[np.array(bb_macd_entry_pos_list) != 'hold']\n",
    "\n",
    "dataset_1m = []\n",
    "dataset_1d = []\n",
    "skip_data_cnt = 0\n",
    "for data in data_tensor:\n",
    "    if len(data[0]) == 240 and len(data[1]) == 60:\n",
    "        dataset_1m.append(torch.from_numpy(data[0]).unsqueeze(dim=0))\n",
    "        dataset_1d.append(torch.from_numpy(data[1]).unsqueeze(dim=0))\n",
    "    else:\n",
    "        skip_data_cnt += 1\n",
    "dataset_1m = torch.cat(dataset_1m, dim=0)\n",
    "dataset_1d = torch.cat(dataset_1d, dim=0)\n",
    "dataset_1m = replace_nan_with_zero(dataset_1m)\n",
    "dataset_1d = replace_nan_with_zero(dataset_1d)\n",
    "\n"
   ]
  },
  {
   "cell_type": "code",
   "execution_count": 5,
   "metadata": {},
   "outputs": [
    {
     "name": "stdout",
     "output_type": "stream",
     "text": [
      "Total parameters: 498300\n"
     ]
    }
   ],
   "source": [
    "state_dict_path = '/root/daily/bit/generation_data_DE/generation_19_5.pt'\n",
    "best_index = np.load('/root/daily/bit/generation_data_DE/performance_folder/best_of_best_index.npy')\n",
    "if os.path.exists(state_dict_path):\n",
    "    state_dict = torch.load(state_dict_path)\n",
    "    start_gen = state_dict['generation'] + 1\n",
    "    best_profit = state_dict['best_profit']\n",
    "    best_chromosomes = state_dict['best_chromosomes']\n",
    "    best_chromosomes = best_chromosomes[best_index]\n",
    "    # prescriptor.load_state_dict(state_dict['prescriptor_state_dict'],strict=True)\n",
    "\n",
    "group = len(best_index)\n",
    "prescriptor = Prescriptor(\n",
    "    basic_block=None, \n",
    "    base_small_input_dim=19, \n",
    "    base_large_input_dim=19,\n",
    "    base_hidden_dim=24, \n",
    "    base_output_dim=16, \n",
    "    after_input_dim=19, \n",
    "    after_hidden_dim=32, \n",
    "    after_output_dim=6, \n",
    "    num_blocks=group,\n",
    ").to(device)\n",
    "\n",
    "inference_model = Prescriptor(\n",
    "    basic_block=None, \n",
    "    base_small_input_dim=19, \n",
    "    base_large_input_dim=19,\n",
    "    base_hidden_dim=24, \n",
    "    base_output_dim=16, \n",
    "    after_input_dim=19, \n",
    "    after_hidden_dim=32, \n",
    "    after_output_dim=6, \n",
    "    num_blocks=size*max_selected,\n",
    ").to(device)\n",
    "\n",
    "total_param = sum(p.numel() for p in prescriptor.parameters())\n",
    "print(f\"Total parameters: {total_param}\")\n",
    "\n",
    "selection = RouletteSelection(elite_num=1000, parents_num=1000, minimize=False)\n",
    "crossover = DifferentialEvolutionOperator()\n",
    "mutation = RandomValueMutation(mut_prob=0.02)\n",
    "evolution = Evolution(\n",
    "    prescriptor=prescriptor,\n",
    "    selection=selection,\n",
    "    crossover=crossover,\n",
    "    mutation=mutation\n",
    ")\n",
    "inference_evolution = Evolution(\n",
    "    prescriptor=inference_model,\n",
    "    selection=selection,\n",
    "    crossover=crossover,\n",
    "    mutation=mutation\n",
    ")\n",
    "\n",
    "init_chromosomes, base_ch_shape, after_ch_shape, device = evolution.flatten_chromosomes()\n",
    "device = 'cuda:1'\n",
    "evolution.update_chromosomes(best_chromosomes[:group], base_ch_shape, after_ch_shape, device)\n",
    "\n",
    "logits = inference(dataset_1m, dataset_1d, prescriptor, device)\n",
    "probs = []\n",
    "for logit in logits:\n",
    "    logit = torch.stack(logit, dim=0)\n",
    "    probs.append(logit)\n",
    "probs = torch.concat(probs, dim=1)\n",
    "probs = probs.squeeze(dim=2)"
   ]
  },
  {
   "cell_type": "code",
   "execution_count": 6,
   "metadata": {},
   "outputs": [
    {
     "name": "stdout",
     "output_type": "stream",
     "text": [
      "Total parameters: 23221273\n"
     ]
    }
   ],
   "source": [
    "rl_model = prescriptor = ChromosomeSelectorModel(\n",
    "    small_input_dim=19, \n",
    "    large_input_dim=19,\n",
    "    hidden_dim=512,\n",
    "    num_chromosomes=group,\n",
    "    num_layers=6\n",
    ")\n",
    "\n",
    "# rl_model = nn.DataParallel(rl_model, device_ids = [0,1])   # 2개의 GPU를 이용할 경우\n",
    "rl_model = rl_model.to(device)\n",
    "optimizer = optim.Adam(rl_model.parameters(), lr=1e-4)\n",
    "total_param = sum(p.numel() for p in rl_model.parameters())\n",
    "print(f\"Total parameters: {total_param}\")"
   ]
  },
  {
   "cell_type": "code",
   "execution_count": 7,
   "metadata": {},
   "outputs": [],
   "source": [
    "def make_sample(len_sample, sample_step=500, batch_size=1, ):\n",
    "    start_index = torch.randint(low=0, high=len_sample-sample_step, size=(batch_size, )).unsqueeze(dim=1)\n",
    "    end_index = start_index + sample_step\n",
    "    random_index = torch.concat([start_index, end_index], dim=1)\n",
    "    return random_index"
   ]
  },
  {
   "cell_type": "code",
   "execution_count": 8,
   "metadata": {},
   "outputs": [],
   "source": [
    "def loss_cut_fn(pos_list, price_list, leverage_ratio, enter_ratio, profit, curr_low, curr_high, additional_count, alpha=1., cut_percent=80.):\n",
    "    \n",
    "    # Positions: 'short' -> 1, 'long' -> 2, 'hold' -> 0\n",
    "    short_index = torch.where(pos_list == 1)[0]\n",
    "    long_index = torch.where(pos_list == 2)[0]\n",
    "\n",
    "    # Calculate profit or loss\n",
    "    short_profit = -((curr_high[short_index] - price_list[short_index]) / price_list[short_index] * 100.) * leverage_ratio[short_index]\n",
    "    long_profit = ((curr_low[long_index] - price_list[long_index]) / price_list[long_index] * 100.) * leverage_ratio[long_index]\n",
    "    \n",
    "    # Determine positions to cut\n",
    "    short_cut_index = torch.where(short_profit <= -cut_percent)[0]\n",
    "    long_cut_index = torch.where(long_profit <= -cut_percent)[0]\n",
    "\n",
    "    # Update state for short positions to be cut\n",
    "    short_index = short_index[short_cut_index]\n",
    "    profit[short_index] = profit[short_index] - (enter_ratio[short_index] * cut_percent * alpha) - 0.1 * leverage_ratio[short_index] * enter_ratio[short_index]\n",
    "    pos_list[short_index] = 0\n",
    "    price_list[short_index] = -1.\n",
    "    leverage_ratio[short_index] = -1.\n",
    "    enter_ratio[short_index] = -1.\n",
    "    additional_count[short_index] = 0\n",
    "\n",
    "    # Update state for long positions to be cut\n",
    "    long_index = long_index[long_cut_index]\n",
    "    profit[long_index] = profit[long_index] - (enter_ratio[long_index] * cut_percent * alpha) - 0.1 * leverage_ratio[long_index] * enter_ratio[long_index]\n",
    "    pos_list[long_index] = 0\n",
    "    price_list[long_index] = -1.\n",
    "    leverage_ratio[long_index] = -1.\n",
    "    enter_ratio[long_index] = -1.\n",
    "    additional_count[long_index] = 0\n",
    "\n",
    "    return pos_list, price_list, leverage_ratio, enter_ratio, additional_count, profit\n",
    "\n",
    "\n",
    "def calculate_now_profit(pos_list, price_list, leverage_ratio, enter_ratio, curr_price):\n",
    "    now_profit = torch.zeros_like(pos_list, dtype=torch.float)\n",
    "    short_index = torch.where(pos_list == 1)[0]  # 'short' -> 1\n",
    "    long_index = torch.where(pos_list == 2)[0]  # 'long' -> 2\n",
    "\n",
    "    short_profit = (-((curr_price[short_index] - price_list[short_index]) / price_list[short_index] * 100.) * leverage_ratio[short_index]) - 0.1 * leverage_ratio[short_index] * enter_ratio[short_index]\n",
    "    long_profit = (((curr_price[long_index] - price_list[long_index]) / price_list[long_index] * 100.) * leverage_ratio[long_index]) - 0.1 * leverage_ratio[long_index] * enter_ratio[long_index]\n",
    "    short_profit = short_profit * enter_ratio[short_index]\n",
    "    long_profit = long_profit * enter_ratio[long_index]\n",
    "    now_profit[short_index] = short_profit\n",
    "    now_profit[long_index] = long_profit\n",
    "\n",
    "    return now_profit\n",
    "\n",
    "def after_forward(model, prob, now_profit, leverage_ratio, enter_ratio, pos_list, max_selected, device):\n",
    "    ch_size = len(now_profit)\n",
    "    now_profit_tensor = now_profit.unsqueeze(dim=1)\n",
    "    leverage_ratio_tensor = leverage_ratio.unsqueeze(dim=1)\n",
    "    enter_ratio_tensor = enter_ratio.unsqueeze(dim=1)\n",
    "    mapping = {0: 0, 1: 1, 2: 2}  # Adjusted mapping\n",
    "    mapped_array = pos_list\n",
    "    mapped_array = mapped_array.repeat([1, max_selected]).flatten()\n",
    "    step = torch.arange(0, ch_size * 3 * max_selected, step=3, device='cpu')\n",
    "    now_profit_tensor = now_profit_tensor.repeat([1, max_selected]).flatten().unsqueeze(dim=1)\n",
    "    leverage_ratio_tensor = leverage_ratio_tensor.repeat([1, max_selected]).flatten().unsqueeze(dim=1)\n",
    "    enter_ratio_tensor = enter_ratio_tensor.repeat([1, max_selected]).flatten().unsqueeze(dim=1)\n",
    "\n",
    "    x = torch.cat([prob, now_profit_tensor, leverage_ratio_tensor, enter_ratio_tensor], dim=1)\n",
    "    cate_x = mapped_array + step\n",
    "\n",
    "    x = x.to(device).float()\n",
    "    cate_x = cate_x.to(device).long()\n",
    "\n",
    "    inference_model.eval()\n",
    "    with torch.no_grad():\n",
    "        after_output = inference_model.after_forward(x=x.squeeze(dim=0), x_cate=cate_x)\n",
    "    after_output = after_output.squeeze(dim=0)\n",
    "    after_output = after_output.reshape(max_selected, -1, 6)\n",
    "    \n",
    "    probs = torch.zeros(size=after_output.shape[1:])\n",
    "    \n",
    "    prob_input = after_output[:, :, :4]\n",
    "    leverate_input = after_output[:, :, 4]\n",
    "    enter_input = after_output[:, :, 5]\n",
    "\n",
    "    prob_input = torch.mean(torch.softmax(prob_input, dim=-1), dim=0)\n",
    "    leverate_input = torch.sigmoid(leverate_input)\n",
    "    leverate_input = torch.mean(leverate_input, dim=0)\n",
    "    enter_input = torch.sigmoid(enter_input)\n",
    "    enter_input = torch.mean(enter_input, dim=0)\n",
    "        \n",
    "    probs[:, :4] = prob_input\n",
    "    probs[:, 4] = leverate_input\n",
    "    probs[:, 5] = enter_input\n",
    "    \n",
    "    return probs\n",
    "\n",
    "def calculate_same(same_prob, pos_list, price_list, leverage_ratio, enter_ratio, profit, entry_pos, curr_close, additional_count, limit=2, cut_value=1.):\n",
    "    index = torch.tensor([0, 1, 3])\n",
    "    logit = torch.argmax(same_prob[:, index], dim=1)\n",
    "    hold_index = torch.where(logit == 0)[0]\n",
    "    enter_index = torch.where((logit == 1) & (additional_count < limit))[0]\n",
    "    loss_index = torch.where(logit == 2)[0]\n",
    "\n",
    "    # loss\n",
    "    pos_list[loss_index] = 0  # 'hold' -> 0\n",
    "    loss_profit = (price_list[loss_index] - curr_close[loss_index]) / price_list[loss_index] * 100\n",
    "    loss_profit = loss_profit * leverage_ratio[loss_index] * enter_ratio[loss_index]\n",
    "\n",
    "    # enter\n",
    "    before_price_list = price_list[enter_index]\n",
    "    before_enter_list = enter_ratio[enter_index]\n",
    "    cut_enter = cut_value - before_enter_list\n",
    "    \n",
    "    enter_enter_ratio = same_prob[enter_index][:, 5]\n",
    "    enter_enter_ratio = torch.minimum(cut_enter, enter_enter_ratio)\n",
    "    after_price_list = before_price_list * (before_enter_list / (before_enter_list + enter_enter_ratio)) \\\n",
    "                       + curr_close[enter_index] * (enter_enter_ratio / (before_enter_list + enter_enter_ratio))\n",
    "    after_enter_ratio = before_enter_list + enter_enter_ratio\n",
    "\n",
    "    loss_entry_pos = entry_pos[loss_index]\n",
    "    long_loss_entry_pos = np.where(loss_entry_pos==2)[0]\n",
    "    short_loss_entry_pos = np.where(loss_entry_pos==1)[0]\n",
    "\n",
    "    long_loss = np.intersect1d(loss_index, np.where(entry_pos==2)[0])\n",
    "    short_loss = np.intersect1d(loss_index, np.where(entry_pos==1)[0])\n",
    "\n",
    "    profit[long_loss] = profit[long_loss] - loss_profit[long_loss_entry_pos] - 0.1 * leverage_ratio[long_loss] * enter_ratio[long_loss]\n",
    "    profit[short_loss] = profit[short_loss] + loss_profit[short_loss_entry_pos] - 0.1 * leverage_ratio[short_loss] * enter_ratio[short_loss]\n",
    "\n",
    "    price_list[loss_index] = -1.\n",
    "    leverage_ratio[loss_index] = -1.\n",
    "    enter_ratio[loss_index] = -1.\n",
    "\n",
    "    # Increment additional_count for allowed entries\n",
    "    additional_count[enter_index] += 1\n",
    "    price_list[enter_index] = after_price_list\n",
    "    enter_ratio[enter_index] = after_enter_ratio\n",
    "\n",
    "    return pos_list, price_list, leverage_ratio, enter_ratio, additional_count, profit\n",
    "\n",
    "def calculate_diff(diff_prob, pos_list, price_list, leverage_ratio, enter_ratio, profit, entry_pos, curr_close, additional_count):\n",
    "    index = torch.tensor([0, 1, 2])\n",
    "    logit = torch.argmax(diff_prob[:, index], dim=1)\n",
    "    hold_index = torch.where(logit == 0)[0]\n",
    "    switch_index = torch.where(logit == 1)[0]\n",
    "    take_index = torch.where(logit == 2)[0]\n",
    "\n",
    "    # switch\n",
    "    switch_profit = (price_list[switch_index] - curr_close[switch_index]) / price_list[switch_index] * 100\n",
    "    switch_profit = switch_profit * leverage_ratio[switch_index] * enter_ratio[switch_index]\n",
    "    switch_leverage = diff_prob[switch_index][:, 4] * 100.\n",
    "    switch_enter_ratio = diff_prob[switch_index][:, 5]\n",
    "\n",
    "    # take\n",
    "    pos_list[take_index] = 0  # 'hold' -> 0\n",
    "    take_profit = (price_list[take_index] - curr_close[take_index]) / price_list[take_index] * 100\n",
    "    take_profit = take_profit * leverage_ratio[take_index] * enter_ratio[take_index]\n",
    "\n",
    "    switch_entry_pos = entry_pos[switch_index]\n",
    "    switch_long_entry_pos = np.where(switch_entry_pos == 2)[0]\n",
    "    switch_short_entry_pos = np.where(switch_entry_pos == 1)[0]\n",
    "    take_entry_pos = entry_pos[take_index]\n",
    "    take_long_entry_pos = np.where(take_entry_pos == 2)[0]\n",
    "    take_short_entry_pos = np.where(take_entry_pos == 1)[0]\n",
    "\n",
    "    switch_long = np.intersect1d(switch_index, np.where(entry_pos==2)[0])\n",
    "    switch_short = np.intersect1d(switch_index, np.where(entry_pos==1)[0])\n",
    "    \n",
    "    take_long = np.intersect1d(take_index, np.where(entry_pos==2)[0])\n",
    "    take_short = np.intersect1d(take_index, np.where(entry_pos==1)[0])\n",
    "\n",
    "\n",
    "    # take\n",
    "    profit[take_long] = profit[take_long] + take_profit[take_long_entry_pos] - leverage_ratio[take_long] * 0.1 * enter_ratio[take_long]\n",
    "    profit[take_short] = profit[take_short] - take_profit[take_short_entry_pos] - leverage_ratio[take_short] * 0.1 * enter_ratio[take_short]\n",
    "    \n",
    "    # switch\n",
    "    profit[switch_long] = profit[switch_long] + switch_profit[switch_long_entry_pos] - leverage_ratio[switch_long] * 0.1 * enter_ratio[switch_long]\n",
    "    pos_list[switch_long] = 2  # 'long' -> 2\n",
    "    profit[switch_short] = profit[switch_short] - switch_profit[switch_short_entry_pos] - leverage_ratio[switch_short] * 0.1 * enter_ratio[switch_short]\n",
    "    pos_list[switch_short] = 1  # 'short' -> 1\n",
    "    \n",
    "\n",
    "    price_list[switch_index] = curr_close[switch_index]\n",
    "    leverage_ratio[switch_index] = switch_leverage\n",
    "    enter_ratio[switch_index] = switch_enter_ratio\n",
    "\n",
    "    price_list[take_index] = -1.\n",
    "    leverage_ratio[take_index] = -1.\n",
    "    enter_ratio[take_index] = -1.\n",
    "\n",
    "    # Reset additional_count for switched and taken positions\n",
    "    additional_count[switch_index] = 0\n",
    "    additional_count[take_index] = 0\n",
    "\n",
    "    return pos_list, price_list, leverage_ratio, enter_ratio, additional_count, profit\n",
    "\n",
    "\n",
    "def calculate_hold(hold_prob, pos_list, price_list, leverage_ratio, enter_ratio, profit, entry_pos, curr_close, additional_count):\n",
    "    index = torch.tensor([0, 1])\n",
    "    logit = torch.argmax(hold_prob[:, index], dim=1)\n",
    "    hold_index = torch.where(logit == 0)[0]\n",
    "    enter_index = torch.where(logit == 1)[0]\n",
    "\n",
    "    # enter\n",
    "    enter_leverage = hold_prob[enter_index][:, 4] * 100.\n",
    "    enter_enter_ratio = hold_prob[enter_index][:, 5]\n",
    "    price_list[enter_index] = curr_close[enter_index]\n",
    "    leverage_ratio[enter_index] = enter_leverage\n",
    "    enter_ratio[enter_index] = enter_enter_ratio\n",
    "\n",
    "    enter_long = np.intersect1d(enter_index, np.where(entry_pos==2)[0])\n",
    "    enter_short = np.intersect1d(enter_index, np.where(entry_pos==1)[0])\n",
    "\n",
    "    pos_list[enter_long] = 2  # 'long' -> 2\n",
    "    pos_list[enter_short] = 1  # 'short' -> 1\n",
    "\n",
    "    # Initialize additional_count for new positions\n",
    "    additional_count[enter_index] = 0\n",
    "\n",
    "    return pos_list, price_list, leverage_ratio, enter_ratio, additional_count, profit\n",
    "\n",
    "\n",
    "\n",
    "def mapping_chromosome(inference_evolution, best_chromosomes, selected_indices, device):\n",
    "    window_size=240\n",
    "    init_chromosomes, base_ch_shape, after_ch_shape, device = inference_evolution.flatten_chromosomes()\n",
    "    device = 'cuda:1'\n",
    "    inference_evolution.update_chromosomes(best_chromosomes[selected_indices.flatten().cpu()], base_ch_shape, after_ch_shape, device)\n",
    "    \n",
    "def inference_model_infer(model, part_dataset_1m_batch, part_dataset_1d_batch, max_selected):\n",
    "    with torch.no_grad():\n",
    "        logits = []\n",
    "        for part_dataset_1m, part_datset_1d in zip(part_dataset_1m_batch, part_dataset_1d_batch):\n",
    "            logit = inference_model.base_forward(part_dataset_1m.float(), part_datset_1d.float())\n",
    "            logits.append(logit)\n",
    "            \n",
    "        probs = []\n",
    "        for index, logit in enumerate(logits):\n",
    "            logit = torch.stack(logit, dim=0)\n",
    "            # print(logit[index*max_selected:(index+1)*max_selected].shape)\n",
    "            probs.append(logit[index*max_selected:(index+1)*max_selected])\n",
    "        probs = torch.concat(probs, dim=0)\n",
    "        probs = probs.squeeze(dim=2)\n",
    "    return probs\n",
    "    \n"
   ]
  },
  {
   "cell_type": "code",
   "execution_count": 9,
   "metadata": {},
   "outputs": [],
   "source": [
    "def calculate_rewards(inference_evolution, prescriptor, best_chromosomes, selected_indices, part_dataset_1m_batch, part_dataset_1d_batch, max_selected,\n",
    "                      size, entry_pos_list, random_index, entry_index_list, data_1m, device):\n",
    "    alpha=1.\n",
    "    cut_percent=90.\n",
    "    limit = 4\n",
    "    \n",
    "    mapping_chromosome(inference_evolution, best_chromosomes, selected_indices, device)\n",
    "    probs = inference_model_infer(inference_model, part_dataset_1m_batch, part_dataset_1d_batch, max_selected)\n",
    "        \n",
    "    pos_list = torch.zeros(size, dtype=torch.long, device='cpu')  # 0: 'hold'\n",
    "    price_list = torch.full((size,), -1., device='cpu').float()\n",
    "    leverage_ratio = torch.full((size,), -1., device='cpu').float()\n",
    "    enter_ratio = torch.full((size,), -1., device='cpu').float()\n",
    "    profit = torch.zeros(size, device='cpu').float()\n",
    "    patience_cnt = torch.zeros(size, dtype=torch.long, device='cpu')\n",
    "    additional_count = torch.zeros(size, dtype=torch.long, device='cpu')\n",
    "    returns_list = []\n",
    "    before_index = np.zeros(shape=(size, )).astype(int)\n",
    "\n",
    "    # Map entry positions\n",
    "    entry_pos_mapping = {'hold': 0, 'short': 1, 'long': 2}\n",
    "    entry_pos_list_int = [entry_pos_mapping[ep] for ep in entry_pos_list]\n",
    "\n",
    "    data_range = np.array([np.arange(random_index[i][0], random_index[i][1]) for i in range(len(random_index))])\n",
    "    data_range = data_range.T + skip_data_cnt\n",
    "\n",
    "    # entry_index_list = bb_macd_entry_index_list\n",
    "        \n",
    "    for data_cnt in range(len(data_range)):\n",
    "        entry_index = np.array(entry_index_list)[data_range[data_cnt]]\n",
    "        entry_pos = np.array(entry_pos_list_int)[data_range[data_cnt]]\n",
    "        entry_pos = torch.tensor(entry_pos).long().to('cpu')\n",
    "        \n",
    "        x = data_1m.iloc[entry_index]\n",
    "        curr_close = torch.tensor(x['Close'].values, device='cpu').float()\n",
    "\n",
    "        history_x = [\n",
    "            data_1m.iloc[before:entry + 1] \n",
    "            for before, entry in zip(before_index, entry_index)\n",
    "        ]\n",
    "        history_high = []\n",
    "        history_low = []\n",
    "        for df in history_x:\n",
    "            history_high.append(df['High'].max())\n",
    "            history_low.append(df['Low'].min())\n",
    "        history_high = torch.tensor(history_high, device='cpu').float()\n",
    "        history_low = torch.tensor(history_low, device='cpu').float()\n",
    "\n",
    "        pos_list, price_list, leverage_ratio, enter_ratio, additional_count, profit = loss_cut_fn(\n",
    "            pos_list, price_list, leverage_ratio,\n",
    "            enter_ratio, profit, history_low, history_high,\n",
    "            additional_count, alpha, cut_percent\n",
    "        )\n",
    "\n",
    "        prob = torch.tensor(probs[:, data_cnt]).to('cpu')\n",
    "        hold_pos = torch.where(pos_list == 0)[0]\n",
    "        same_pos = torch.where(pos_list == entry_pos)[0]\n",
    "        diff_pos = torch.where((pos_list != entry_pos) & (pos_list != 0))[0]\n",
    "        now_profit = calculate_now_profit(pos_list, price_list, leverage_ratio, enter_ratio, curr_close)\n",
    "        prob = after_forward(prescriptor, prob, now_profit, leverage_ratio, enter_ratio, pos_list, max_selected, device=device)\n",
    "        prob = prob.cpu()\n",
    "        \n",
    "        same_prob = prob[same_pos]\n",
    "        diff_prob = prob[diff_pos]\n",
    "        hold_prob = prob[hold_pos]\n",
    "        \n",
    "        pos_list[same_pos], price_list[same_pos], leverage_ratio[same_pos], enter_ratio[same_pos], additional_count[same_pos], profit[same_pos] = calculate_same(\n",
    "            same_prob, pos_list[same_pos], price_list[same_pos], leverage_ratio[same_pos], enter_ratio[same_pos], profit[same_pos],\n",
    "            entry_pos[same_pos], curr_close[same_pos], additional_count[same_pos], limit\n",
    "        )\n",
    "                \n",
    "        pos_list[diff_pos], price_list[diff_pos], leverage_ratio[diff_pos], enter_ratio[diff_pos], additional_count[diff_pos], profit[diff_pos] = calculate_diff(\n",
    "            diff_prob, pos_list[diff_pos], price_list[diff_pos], leverage_ratio[diff_pos], enter_ratio[diff_pos], profit[diff_pos],\n",
    "            entry_pos[diff_pos], curr_close[diff_pos], additional_count[diff_pos]\n",
    "        )\n",
    "                \n",
    "        pos_list[hold_pos], price_list[hold_pos], leverage_ratio[hold_pos], enter_ratio[hold_pos], additional_count[hold_pos], profit[hold_pos] = calculate_hold(\n",
    "            hold_prob, pos_list[hold_pos], price_list[hold_pos], leverage_ratio[hold_pos], enter_ratio[hold_pos], profit[hold_pos],\n",
    "            entry_pos[hold_pos], curr_close[hold_pos], additional_count[hold_pos]\n",
    "        )\n",
    "        \n",
    "        before_index = entry_index\n",
    "        returns_list.append(profit.clone().cpu().detach().numpy())\n",
    "        profit = torch.zeros(size, device='cpu').float()\n",
    "    returns_list = np.stack(returns_list).T\n",
    "\n",
    "    rewards = []\n",
    "    for i in range(len(returns_list)):\n",
    "        returns  = returns_list[i]\n",
    "        returns = returns[returns!= 0.]\n",
    "        \n",
    "        total_profit = 1.\n",
    "        for profit_value in returns:\n",
    "            total_profit = total_profit * ((100+profit_value) / 100)\n",
    "        rewards.append(total_profit)\n",
    "    rewards = torch.tensor(rewards).to(device)\n",
    "    \n",
    "    return rewards"
   ]
  },
  {
   "cell_type": "code",
   "execution_count": 10,
   "metadata": {},
   "outputs": [
    {
     "name": "stderr",
     "output_type": "stream",
     "text": [
      "  1%|          | 8/1000 [00:20<42:42,  2.58s/it]"
     ]
    },
    {
     "name": "stdout",
     "output_type": "stream",
     "text": [
      "tensor(8.2649, device='cuda:1', dtype=torch.float64)\n"
     ]
    },
    {
     "name": "stderr",
     "output_type": "stream",
     "text": [
      "  2%|▏         | 16/1000 [00:39<40:46,  2.49s/it]"
     ]
    },
    {
     "name": "stdout",
     "output_type": "stream",
     "text": [
      "tensor(7.8655, device='cuda:1', dtype=torch.float64)\n"
     ]
    },
    {
     "name": "stderr",
     "output_type": "stream",
     "text": [
      "  2%|▏         | 24/1000 [00:59<40:16,  2.48s/it]"
     ]
    },
    {
     "name": "stdout",
     "output_type": "stream",
     "text": [
      "tensor(8.0116, device='cuda:1', dtype=torch.float64)\n"
     ]
    },
    {
     "name": "stderr",
     "output_type": "stream",
     "text": [
      "  3%|▎         | 32/1000 [01:18<38:14,  2.37s/it]"
     ]
    },
    {
     "name": "stdout",
     "output_type": "stream",
     "text": [
      "tensor(8.0799, device='cuda:1', dtype=torch.float64)\n"
     ]
    },
    {
     "name": "stderr",
     "output_type": "stream",
     "text": [
      "  4%|▍         | 40/1000 [01:37<38:08,  2.38s/it]"
     ]
    },
    {
     "name": "stdout",
     "output_type": "stream",
     "text": [
      "tensor(8.1004, device='cuda:1', dtype=torch.float64)\n"
     ]
    },
    {
     "name": "stderr",
     "output_type": "stream",
     "text": [
      "  5%|▍         | 48/1000 [01:57<38:16,  2.41s/it]"
     ]
    },
    {
     "name": "stdout",
     "output_type": "stream",
     "text": [
      "tensor(7.8112, device='cuda:1', dtype=torch.float64)\n"
     ]
    },
    {
     "name": "stderr",
     "output_type": "stream",
     "text": [
      "  6%|▌         | 56/1000 [02:16<37:13,  2.37s/it]"
     ]
    },
    {
     "name": "stdout",
     "output_type": "stream",
     "text": [
      "tensor(8.2027, device='cuda:1', dtype=torch.float64)\n"
     ]
    },
    {
     "name": "stderr",
     "output_type": "stream",
     "text": [
      "  6%|▋         | 64/1000 [02:35<37:36,  2.41s/it]"
     ]
    },
    {
     "name": "stdout",
     "output_type": "stream",
     "text": [
      "tensor(8.1191, device='cuda:1', dtype=torch.float64)\n"
     ]
    },
    {
     "name": "stderr",
     "output_type": "stream",
     "text": [
      "  7%|▋         | 72/1000 [02:54<36:45,  2.38s/it]"
     ]
    },
    {
     "name": "stdout",
     "output_type": "stream",
     "text": [
      "tensor(8.0079, device='cuda:1', dtype=torch.float64)\n"
     ]
    },
    {
     "name": "stderr",
     "output_type": "stream",
     "text": [
      "  8%|▊         | 80/1000 [03:14<37:01,  2.41s/it]"
     ]
    },
    {
     "name": "stdout",
     "output_type": "stream",
     "text": [
      "tensor(7.8734, device='cuda:1', dtype=torch.float64)\n"
     ]
    },
    {
     "name": "stderr",
     "output_type": "stream",
     "text": [
      "  9%|▉         | 88/1000 [03:33<36:07,  2.38s/it]"
     ]
    },
    {
     "name": "stdout",
     "output_type": "stream",
     "text": [
      "tensor(7.8188, device='cuda:1', dtype=torch.float64)\n"
     ]
    },
    {
     "name": "stderr",
     "output_type": "stream",
     "text": [
      " 10%|▉         | 96/1000 [03:53<37:39,  2.50s/it]"
     ]
    },
    {
     "name": "stdout",
     "output_type": "stream",
     "text": [
      "tensor(7.7855, device='cuda:1', dtype=torch.float64)\n"
     ]
    },
    {
     "name": "stderr",
     "output_type": "stream",
     "text": [
      " 10%|█         | 104/1000 [04:12<35:28,  2.38s/it]"
     ]
    },
    {
     "name": "stdout",
     "output_type": "stream",
     "text": [
      "tensor(7.9911, device='cuda:1', dtype=torch.float64)\n"
     ]
    },
    {
     "name": "stderr",
     "output_type": "stream",
     "text": [
      " 11%|█         | 112/1000 [04:31<34:57,  2.36s/it]"
     ]
    },
    {
     "name": "stdout",
     "output_type": "stream",
     "text": [
      "tensor(7.8632, device='cuda:1', dtype=torch.float64)\n"
     ]
    },
    {
     "name": "stderr",
     "output_type": "stream",
     "text": [
      " 12%|█▏        | 120/1000 [04:51<36:29,  2.49s/it]"
     ]
    },
    {
     "name": "stdout",
     "output_type": "stream",
     "text": [
      "tensor(7.8073, device='cuda:1', dtype=torch.float64)\n"
     ]
    },
    {
     "name": "stderr",
     "output_type": "stream",
     "text": [
      " 13%|█▎        | 128/1000 [05:10<34:32,  2.38s/it]"
     ]
    },
    {
     "name": "stdout",
     "output_type": "stream",
     "text": [
      "tensor(7.8673, device='cuda:1', dtype=torch.float64)\n"
     ]
    },
    {
     "name": "stderr",
     "output_type": "stream",
     "text": [
      " 14%|█▎        | 136/1000 [05:29<34:16,  2.38s/it]"
     ]
    },
    {
     "name": "stdout",
     "output_type": "stream",
     "text": [
      "tensor(7.9540, device='cuda:1', dtype=torch.float64)\n"
     ]
    },
    {
     "name": "stderr",
     "output_type": "stream",
     "text": [
      " 14%|█▍        | 144/1000 [05:48<33:49,  2.37s/it]"
     ]
    },
    {
     "name": "stdout",
     "output_type": "stream",
     "text": [
      "tensor(7.9979, device='cuda:1', dtype=torch.float64)\n"
     ]
    },
    {
     "name": "stderr",
     "output_type": "stream",
     "text": [
      " 15%|█▌        | 152/1000 [06:08<34:00,  2.41s/it]"
     ]
    },
    {
     "name": "stdout",
     "output_type": "stream",
     "text": [
      "tensor(7.9459, device='cuda:1', dtype=torch.float64)\n"
     ]
    },
    {
     "name": "stderr",
     "output_type": "stream",
     "text": [
      " 16%|█▌        | 160/1000 [06:27<33:12,  2.37s/it]"
     ]
    },
    {
     "name": "stdout",
     "output_type": "stream",
     "text": [
      "tensor(7.8187, device='cuda:1', dtype=torch.float64)\n"
     ]
    },
    {
     "name": "stderr",
     "output_type": "stream",
     "text": [
      " 17%|█▋        | 168/1000 [06:46<33:01,  2.38s/it]"
     ]
    },
    {
     "name": "stdout",
     "output_type": "stream",
     "text": [
      "tensor(7.8345, device='cuda:1', dtype=torch.float64)\n"
     ]
    },
    {
     "name": "stderr",
     "output_type": "stream",
     "text": [
      " 18%|█▊        | 176/1000 [07:05<32:40,  2.38s/it]"
     ]
    },
    {
     "name": "stdout",
     "output_type": "stream",
     "text": [
      "tensor(7.9629, device='cuda:1', dtype=torch.float64)\n"
     ]
    },
    {
     "name": "stderr",
     "output_type": "stream",
     "text": [
      " 18%|█▊        | 184/1000 [07:25<32:56,  2.42s/it]"
     ]
    },
    {
     "name": "stdout",
     "output_type": "stream",
     "text": [
      "tensor(7.8431, device='cuda:1', dtype=torch.float64)\n"
     ]
    },
    {
     "name": "stderr",
     "output_type": "stream",
     "text": [
      " 19%|█▉        | 192/1000 [07:44<32:11,  2.39s/it]"
     ]
    },
    {
     "name": "stdout",
     "output_type": "stream",
     "text": [
      "tensor(7.9130, device='cuda:1', dtype=torch.float64)\n"
     ]
    },
    {
     "name": "stderr",
     "output_type": "stream",
     "text": [
      " 20%|██        | 200/1000 [08:03<31:46,  2.38s/it]"
     ]
    },
    {
     "name": "stdout",
     "output_type": "stream",
     "text": [
      "tensor(7.9152, device='cuda:1', dtype=torch.float64)\n"
     ]
    },
    {
     "name": "stderr",
     "output_type": "stream",
     "text": [
      " 21%|██        | 208/1000 [08:22<31:14,  2.37s/it]"
     ]
    },
    {
     "name": "stdout",
     "output_type": "stream",
     "text": [
      "tensor(8.1930, device='cuda:1', dtype=torch.float64)\n"
     ]
    },
    {
     "name": "stderr",
     "output_type": "stream",
     "text": [
      " 22%|██▏       | 216/1000 [08:41<31:01,  2.37s/it]"
     ]
    },
    {
     "name": "stdout",
     "output_type": "stream",
     "text": [
      "tensor(7.6092, device='cuda:1', dtype=torch.float64)\n"
     ]
    },
    {
     "name": "stderr",
     "output_type": "stream",
     "text": [
      " 22%|██▏       | 224/1000 [09:02<31:25,  2.43s/it]"
     ]
    },
    {
     "name": "stdout",
     "output_type": "stream",
     "text": [
      "tensor(7.9846, device='cuda:1', dtype=torch.float64)\n"
     ]
    },
    {
     "name": "stderr",
     "output_type": "stream",
     "text": [
      " 23%|██▎       | 232/1000 [09:21<30:20,  2.37s/it]"
     ]
    },
    {
     "name": "stdout",
     "output_type": "stream",
     "text": [
      "tensor(7.9281, device='cuda:1', dtype=torch.float64)\n"
     ]
    },
    {
     "name": "stderr",
     "output_type": "stream",
     "text": [
      " 24%|██▍       | 240/1000 [09:39<29:55,  2.36s/it]"
     ]
    },
    {
     "name": "stdout",
     "output_type": "stream",
     "text": [
      "tensor(7.8941, device='cuda:1', dtype=torch.float64)\n"
     ]
    },
    {
     "name": "stderr",
     "output_type": "stream",
     "text": [
      " 25%|██▍       | 248/1000 [09:58<29:43,  2.37s/it]"
     ]
    },
    {
     "name": "stdout",
     "output_type": "stream",
     "text": [
      "tensor(7.9434, device='cuda:1', dtype=torch.float64)\n"
     ]
    },
    {
     "name": "stderr",
     "output_type": "stream",
     "text": [
      " 26%|██▌       | 256/1000 [10:17<29:23,  2.37s/it]"
     ]
    },
    {
     "name": "stdout",
     "output_type": "stream",
     "text": [
      "tensor(7.9829, device='cuda:1', dtype=torch.float64)\n"
     ]
    },
    {
     "name": "stderr",
     "output_type": "stream",
     "text": [
      " 26%|██▋       | 264/1000 [10:36<29:04,  2.37s/it]"
     ]
    },
    {
     "name": "stdout",
     "output_type": "stream",
     "text": [
      "tensor(7.9463, device='cuda:1', dtype=torch.float64)\n"
     ]
    },
    {
     "name": "stderr",
     "output_type": "stream",
     "text": [
      " 27%|██▋       | 272/1000 [10:57<29:33,  2.44s/it]"
     ]
    },
    {
     "name": "stdout",
     "output_type": "stream",
     "text": [
      "tensor(7.7639, device='cuda:1', dtype=torch.float64)\n"
     ]
    },
    {
     "name": "stderr",
     "output_type": "stream",
     "text": [
      " 28%|██▊       | 280/1000 [11:16<28:29,  2.37s/it]"
     ]
    },
    {
     "name": "stdout",
     "output_type": "stream",
     "text": [
      "tensor(7.8710, device='cuda:1', dtype=torch.float64)\n"
     ]
    },
    {
     "name": "stderr",
     "output_type": "stream",
     "text": [
      " 29%|██▉       | 288/1000 [11:35<28:06,  2.37s/it]"
     ]
    },
    {
     "name": "stdout",
     "output_type": "stream",
     "text": [
      "tensor(8.0009, device='cuda:1', dtype=torch.float64)\n"
     ]
    },
    {
     "name": "stderr",
     "output_type": "stream",
     "text": [
      " 30%|██▉       | 296/1000 [11:54<27:58,  2.38s/it]"
     ]
    },
    {
     "name": "stdout",
     "output_type": "stream",
     "text": [
      "tensor(7.9486, device='cuda:1', dtype=torch.float64)\n"
     ]
    },
    {
     "name": "stderr",
     "output_type": "stream",
     "text": [
      " 30%|███       | 304/1000 [12:13<27:40,  2.39s/it]"
     ]
    },
    {
     "name": "stdout",
     "output_type": "stream",
     "text": [
      "tensor(8.0671, device='cuda:1', dtype=torch.float64)\n"
     ]
    },
    {
     "name": "stderr",
     "output_type": "stream",
     "text": [
      " 31%|███       | 312/1000 [12:32<27:24,  2.39s/it]"
     ]
    },
    {
     "name": "stdout",
     "output_type": "stream",
     "text": [
      "tensor(7.8892, device='cuda:1', dtype=torch.float64)\n"
     ]
    },
    {
     "name": "stderr",
     "output_type": "stream",
     "text": [
      " 32%|███▏      | 320/1000 [12:53<32:59,  2.91s/it]"
     ]
    },
    {
     "name": "stdout",
     "output_type": "stream",
     "text": [
      "tensor(8.0628, device='cuda:1', dtype=torch.float64)\n"
     ]
    },
    {
     "name": "stderr",
     "output_type": "stream",
     "text": [
      " 33%|███▎      | 328/1000 [13:12<27:04,  2.42s/it]"
     ]
    },
    {
     "name": "stdout",
     "output_type": "stream",
     "text": [
      "tensor(7.6260, device='cuda:1', dtype=torch.float64)\n"
     ]
    },
    {
     "name": "stderr",
     "output_type": "stream",
     "text": [
      " 34%|███▎      | 336/1000 [13:31<26:31,  2.40s/it]"
     ]
    },
    {
     "name": "stdout",
     "output_type": "stream",
     "text": [
      "tensor(7.9451, device='cuda:1', dtype=torch.float64)\n"
     ]
    },
    {
     "name": "stderr",
     "output_type": "stream",
     "text": [
      " 34%|███▍      | 344/1000 [13:50<26:11,  2.39s/it]"
     ]
    },
    {
     "name": "stdout",
     "output_type": "stream",
     "text": [
      "tensor(7.7334, device='cuda:1', dtype=torch.float64)\n"
     ]
    },
    {
     "name": "stderr",
     "output_type": "stream",
     "text": [
      " 35%|███▌      | 352/1000 [14:09<25:38,  2.37s/it]"
     ]
    },
    {
     "name": "stdout",
     "output_type": "stream",
     "text": [
      "tensor(8.0653, device='cuda:1', dtype=torch.float64)\n"
     ]
    },
    {
     "name": "stderr",
     "output_type": "stream",
     "text": [
      " 36%|███▌      | 360/1000 [14:28<25:10,  2.36s/it]"
     ]
    },
    {
     "name": "stdout",
     "output_type": "stream",
     "text": [
      "tensor(7.9624, device='cuda:1', dtype=torch.float64)\n"
     ]
    },
    {
     "name": "stderr",
     "output_type": "stream",
     "text": [
      " 37%|███▋      | 368/1000 [14:47<25:05,  2.38s/it]"
     ]
    },
    {
     "name": "stdout",
     "output_type": "stream",
     "text": [
      "tensor(7.8557, device='cuda:1', dtype=torch.float64)\n"
     ]
    },
    {
     "name": "stderr",
     "output_type": "stream",
     "text": [
      " 38%|███▊      | 376/1000 [15:06<24:29,  2.36s/it]"
     ]
    },
    {
     "name": "stdout",
     "output_type": "stream",
     "text": [
      "tensor(7.9336, device='cuda:1', dtype=torch.float64)\n"
     ]
    },
    {
     "name": "stderr",
     "output_type": "stream",
     "text": [
      " 38%|███▊      | 384/1000 [15:25<24:27,  2.38s/it]"
     ]
    },
    {
     "name": "stdout",
     "output_type": "stream",
     "text": [
      "tensor(7.9464, device='cuda:1', dtype=torch.float64)\n"
     ]
    },
    {
     "name": "stderr",
     "output_type": "stream",
     "text": [
      " 39%|███▉      | 392/1000 [15:46<24:46,  2.45s/it]"
     ]
    },
    {
     "name": "stdout",
     "output_type": "stream",
     "text": [
      "tensor(7.5741, device='cuda:1', dtype=torch.float64)\n"
     ]
    },
    {
     "name": "stderr",
     "output_type": "stream",
     "text": [
      " 40%|████      | 400/1000 [16:05<23:44,  2.37s/it]"
     ]
    },
    {
     "name": "stdout",
     "output_type": "stream",
     "text": [
      "tensor(7.8023, device='cuda:1', dtype=torch.float64)\n"
     ]
    },
    {
     "name": "stderr",
     "output_type": "stream",
     "text": [
      " 41%|████      | 408/1000 [16:24<23:26,  2.38s/it]"
     ]
    },
    {
     "name": "stdout",
     "output_type": "stream",
     "text": [
      "tensor(8.0095, device='cuda:1', dtype=torch.float64)\n"
     ]
    },
    {
     "name": "stderr",
     "output_type": "stream",
     "text": [
      " 42%|████▏     | 416/1000 [16:43<23:07,  2.38s/it]"
     ]
    },
    {
     "name": "stdout",
     "output_type": "stream",
     "text": [
      "tensor(7.8154, device='cuda:1', dtype=torch.float64)\n"
     ]
    },
    {
     "name": "stderr",
     "output_type": "stream",
     "text": [
      " 42%|████▏     | 424/1000 [17:02<22:40,  2.36s/it]"
     ]
    },
    {
     "name": "stdout",
     "output_type": "stream",
     "text": [
      "tensor(8.0488, device='cuda:1')\n"
     ]
    },
    {
     "name": "stderr",
     "output_type": "stream",
     "text": [
      " 43%|████▎     | 432/1000 [17:21<22:19,  2.36s/it]"
     ]
    },
    {
     "name": "stdout",
     "output_type": "stream",
     "text": [
      "tensor(7.8399, device='cuda:1', dtype=torch.float64)\n"
     ]
    },
    {
     "name": "stderr",
     "output_type": "stream",
     "text": [
      " 44%|████▍     | 440/1000 [17:40<22:12,  2.38s/it]"
     ]
    },
    {
     "name": "stdout",
     "output_type": "stream",
     "text": [
      "tensor(7.8621, device='cuda:1', dtype=torch.float64)\n"
     ]
    },
    {
     "name": "stderr",
     "output_type": "stream",
     "text": [
      " 45%|████▍     | 448/1000 [17:59<21:49,  2.37s/it]"
     ]
    },
    {
     "name": "stdout",
     "output_type": "stream",
     "text": [
      "tensor(7.9389, device='cuda:1', dtype=torch.float64)\n"
     ]
    },
    {
     "name": "stderr",
     "output_type": "stream",
     "text": [
      " 46%|████▌     | 456/1000 [18:18<21:27,  2.37s/it]"
     ]
    },
    {
     "name": "stdout",
     "output_type": "stream",
     "text": [
      "tensor(7.6987, device='cuda:1', dtype=torch.float64)\n"
     ]
    },
    {
     "name": "stderr",
     "output_type": "stream",
     "text": [
      " 46%|████▋     | 464/1000 [18:37<21:10,  2.37s/it]"
     ]
    },
    {
     "name": "stdout",
     "output_type": "stream",
     "text": [
      "tensor(7.9687, device='cuda:1')\n"
     ]
    },
    {
     "name": "stderr",
     "output_type": "stream",
     "text": [
      " 47%|████▋     | 472/1000 [18:59<22:03,  2.51s/it]"
     ]
    },
    {
     "name": "stdout",
     "output_type": "stream",
     "text": [
      "tensor(8.1454, device='cuda:1', dtype=torch.float64)\n"
     ]
    },
    {
     "name": "stderr",
     "output_type": "stream",
     "text": [
      " 48%|████▊     | 480/1000 [19:18<20:51,  2.41s/it]"
     ]
    },
    {
     "name": "stdout",
     "output_type": "stream",
     "text": [
      "tensor(8.2731, device='cuda:1', dtype=torch.float64)\n"
     ]
    },
    {
     "name": "stderr",
     "output_type": "stream",
     "text": [
      " 49%|████▉     | 488/1000 [19:37<20:19,  2.38s/it]"
     ]
    },
    {
     "name": "stdout",
     "output_type": "stream",
     "text": [
      "tensor(7.8927, device='cuda:1', dtype=torch.float64)\n"
     ]
    },
    {
     "name": "stderr",
     "output_type": "stream",
     "text": [
      " 50%|████▉     | 496/1000 [19:56<20:01,  2.38s/it]"
     ]
    },
    {
     "name": "stdout",
     "output_type": "stream",
     "text": [
      "tensor(7.9917, device='cuda:1', dtype=torch.float64)\n"
     ]
    },
    {
     "name": "stderr",
     "output_type": "stream",
     "text": [
      " 50%|█████     | 504/1000 [20:15<19:48,  2.40s/it]"
     ]
    },
    {
     "name": "stdout",
     "output_type": "stream",
     "text": [
      "tensor(7.9526, device='cuda:1', dtype=torch.float64)\n"
     ]
    },
    {
     "name": "stderr",
     "output_type": "stream",
     "text": [
      " 51%|█████     | 512/1000 [20:34<19:24,  2.39s/it]"
     ]
    },
    {
     "name": "stdout",
     "output_type": "stream",
     "text": [
      "tensor(8.2122, device='cuda:1', dtype=torch.float64)\n"
     ]
    },
    {
     "name": "stderr",
     "output_type": "stream",
     "text": [
      " 52%|█████▏    | 520/1000 [20:53<18:59,  2.37s/it]"
     ]
    },
    {
     "name": "stdout",
     "output_type": "stream",
     "text": [
      "tensor(7.9852, device='cuda:1', dtype=torch.float64)\n"
     ]
    },
    {
     "name": "stderr",
     "output_type": "stream",
     "text": [
      " 53%|█████▎    | 528/1000 [21:12<18:41,  2.38s/it]"
     ]
    },
    {
     "name": "stdout",
     "output_type": "stream",
     "text": [
      "tensor(7.9509, device='cuda:1', dtype=torch.float64)\n"
     ]
    },
    {
     "name": "stderr",
     "output_type": "stream",
     "text": [
      " 54%|█████▎    | 536/1000 [21:31<18:15,  2.36s/it]"
     ]
    },
    {
     "name": "stdout",
     "output_type": "stream",
     "text": [
      "tensor(7.9137, device='cuda:1', dtype=torch.float64)\n"
     ]
    },
    {
     "name": "stderr",
     "output_type": "stream",
     "text": [
      " 54%|█████▍    | 544/1000 [21:50<18:07,  2.38s/it]"
     ]
    },
    {
     "name": "stdout",
     "output_type": "stream",
     "text": [
      "tensor(8.0533, device='cuda:1', dtype=torch.float64)\n"
     ]
    },
    {
     "name": "stderr",
     "output_type": "stream",
     "text": [
      " 55%|█████▌    | 552/1000 [22:09<17:50,  2.39s/it]"
     ]
    },
    {
     "name": "stdout",
     "output_type": "stream",
     "text": [
      "tensor(7.6474, device='cuda:1', dtype=torch.float64)\n"
     ]
    },
    {
     "name": "stderr",
     "output_type": "stream",
     "text": [
      " 56%|█████▌    | 560/1000 [22:31<23:30,  3.21s/it]"
     ]
    },
    {
     "name": "stdout",
     "output_type": "stream",
     "text": [
      "tensor(7.7266, device='cuda:1', dtype=torch.float64)\n"
     ]
    },
    {
     "name": "stderr",
     "output_type": "stream",
     "text": [
      " 57%|█████▋    | 568/1000 [22:50<17:25,  2.42s/it]"
     ]
    },
    {
     "name": "stdout",
     "output_type": "stream",
     "text": [
      "tensor(7.9475, device='cuda:1', dtype=torch.float64)\n"
     ]
    },
    {
     "name": "stderr",
     "output_type": "stream",
     "text": [
      " 58%|█████▊    | 576/1000 [23:09<16:44,  2.37s/it]"
     ]
    },
    {
     "name": "stdout",
     "output_type": "stream",
     "text": [
      "tensor(8.1410, device='cuda:1', dtype=torch.float64)\n"
     ]
    },
    {
     "name": "stderr",
     "output_type": "stream",
     "text": [
      " 58%|█████▊    | 584/1000 [23:28<16:30,  2.38s/it]"
     ]
    },
    {
     "name": "stdout",
     "output_type": "stream",
     "text": [
      "tensor(7.9698, device='cuda:1')\n"
     ]
    },
    {
     "name": "stderr",
     "output_type": "stream",
     "text": [
      " 59%|█████▉    | 592/1000 [23:47<16:14,  2.39s/it]"
     ]
    },
    {
     "name": "stdout",
     "output_type": "stream",
     "text": [
      "tensor(7.7410, device='cuda:1', dtype=torch.float64)\n"
     ]
    },
    {
     "name": "stderr",
     "output_type": "stream",
     "text": [
      " 60%|██████    | 600/1000 [24:06<15:53,  2.38s/it]"
     ]
    },
    {
     "name": "stdout",
     "output_type": "stream",
     "text": [
      "tensor(7.9976, device='cuda:1', dtype=torch.float64)\n"
     ]
    },
    {
     "name": "stderr",
     "output_type": "stream",
     "text": [
      " 61%|██████    | 608/1000 [24:25<15:40,  2.40s/it]"
     ]
    },
    {
     "name": "stdout",
     "output_type": "stream",
     "text": [
      "tensor(8.0116, device='cuda:1', dtype=torch.float64)\n"
     ]
    },
    {
     "name": "stderr",
     "output_type": "stream",
     "text": [
      " 62%|██████▏   | 616/1000 [24:44<15:10,  2.37s/it]"
     ]
    },
    {
     "name": "stdout",
     "output_type": "stream",
     "text": [
      "tensor(7.9351, device='cuda:1', dtype=torch.float64)\n"
     ]
    },
    {
     "name": "stderr",
     "output_type": "stream",
     "text": [
      " 62%|██████▏   | 624/1000 [25:03<14:50,  2.37s/it]"
     ]
    },
    {
     "name": "stdout",
     "output_type": "stream",
     "text": [
      "tensor(7.7834, device='cuda:1', dtype=torch.float64)\n"
     ]
    },
    {
     "name": "stderr",
     "output_type": "stream",
     "text": [
      " 63%|██████▎   | 632/1000 [25:22<14:30,  2.37s/it]"
     ]
    },
    {
     "name": "stdout",
     "output_type": "stream",
     "text": [
      "tensor(7.7428, device='cuda:1', dtype=torch.float64)\n"
     ]
    },
    {
     "name": "stderr",
     "output_type": "stream",
     "text": [
      " 64%|██████▍   | 640/1000 [25:41<14:10,  2.36s/it]"
     ]
    },
    {
     "name": "stdout",
     "output_type": "stream",
     "text": [
      "tensor(7.8215, device='cuda:1', dtype=torch.float64)\n"
     ]
    },
    {
     "name": "stderr",
     "output_type": "stream",
     "text": [
      " 65%|██████▍   | 648/1000 [26:00<13:54,  2.37s/it]"
     ]
    },
    {
     "name": "stdout",
     "output_type": "stream",
     "text": [
      "tensor(8.0138, device='cuda:1', dtype=torch.float64)\n"
     ]
    },
    {
     "name": "stderr",
     "output_type": "stream",
     "text": [
      " 66%|██████▌   | 656/1000 [26:18<13:30,  2.36s/it]"
     ]
    },
    {
     "name": "stdout",
     "output_type": "stream",
     "text": [
      "tensor(7.9699, device='cuda:1', dtype=torch.float64)\n"
     ]
    },
    {
     "name": "stderr",
     "output_type": "stream",
     "text": [
      " 66%|██████▋   | 664/1000 [26:37<13:15,  2.37s/it]"
     ]
    },
    {
     "name": "stdout",
     "output_type": "stream",
     "text": [
      "tensor(7.7373, device='cuda:1', dtype=torch.float64)\n"
     ]
    },
    {
     "name": "stderr",
     "output_type": "stream",
     "text": [
      " 67%|██████▋   | 672/1000 [27:00<16:42,  3.06s/it]"
     ]
    },
    {
     "name": "stdout",
     "output_type": "stream",
     "text": [
      "tensor(7.8832, device='cuda:1', dtype=torch.float64)\n"
     ]
    },
    {
     "name": "stderr",
     "output_type": "stream",
     "text": [
      " 68%|██████▊   | 680/1000 [27:19<12:47,  2.40s/it]"
     ]
    },
    {
     "name": "stdout",
     "output_type": "stream",
     "text": [
      "tensor(8.1306, device='cuda:1', dtype=torch.float64)\n"
     ]
    },
    {
     "name": "stderr",
     "output_type": "stream",
     "text": [
      " 69%|██████▉   | 688/1000 [27:38<12:22,  2.38s/it]"
     ]
    },
    {
     "name": "stdout",
     "output_type": "stream",
     "text": [
      "tensor(7.9650, device='cuda:1', dtype=torch.float64)\n"
     ]
    },
    {
     "name": "stderr",
     "output_type": "stream",
     "text": [
      " 70%|██████▉   | 696/1000 [27:56<12:01,  2.37s/it]"
     ]
    },
    {
     "name": "stdout",
     "output_type": "stream",
     "text": [
      "tensor(7.9877, device='cuda:1', dtype=torch.float64)\n"
     ]
    },
    {
     "name": "stderr",
     "output_type": "stream",
     "text": [
      " 70%|███████   | 704/1000 [28:15<11:40,  2.37s/it]"
     ]
    },
    {
     "name": "stdout",
     "output_type": "stream",
     "text": [
      "tensor(7.9769, device='cuda:1', dtype=torch.float64)\n"
     ]
    },
    {
     "name": "stderr",
     "output_type": "stream",
     "text": [
      " 71%|███████   | 712/1000 [28:35<11:25,  2.38s/it]"
     ]
    },
    {
     "name": "stdout",
     "output_type": "stream",
     "text": [
      "tensor(8.0857, device='cuda:1', dtype=torch.float64)\n"
     ]
    },
    {
     "name": "stderr",
     "output_type": "stream",
     "text": [
      " 72%|███████▏  | 720/1000 [28:53<11:05,  2.38s/it]"
     ]
    },
    {
     "name": "stdout",
     "output_type": "stream",
     "text": [
      "tensor(7.9805, device='cuda:1', dtype=torch.float64)\n"
     ]
    },
    {
     "name": "stderr",
     "output_type": "stream",
     "text": [
      " 73%|███████▎  | 728/1000 [29:13<10:50,  2.39s/it]"
     ]
    },
    {
     "name": "stdout",
     "output_type": "stream",
     "text": [
      "tensor(7.8677, device='cuda:1', dtype=torch.float64)\n"
     ]
    },
    {
     "name": "stderr",
     "output_type": "stream",
     "text": [
      " 74%|███████▎  | 736/1000 [29:31<10:21,  2.35s/it]"
     ]
    },
    {
     "name": "stdout",
     "output_type": "stream",
     "text": [
      "tensor(8.0000, device='cuda:1', dtype=torch.float64)\n"
     ]
    },
    {
     "name": "stderr",
     "output_type": "stream",
     "text": [
      " 74%|███████▍  | 738/1000 [29:36<10:19,  2.37s/it]"
     ]
    }
   ],
   "source": [
    "from tqdm import tqdm\n",
    "step_baseline = 0.\n",
    "for i in tqdm(range((1000))):\n",
    "    random_index = make_sample(len(dataset_1m), sample_step=sample_step, batch_size=size)\n",
    "    part_dataset_1m_batch = torch.stack([dataset_1m[idx[0]:idx[1]] for idx in random_index]).to(device)\n",
    "    part_dataset_1d_batch = torch.stack([dataset_1d[idx[0]:idx[1]] for idx in random_index]).to(device)\n",
    "    # part_dataset_1m_batch = torch.stack([dataset_1m[idx[0]:idx[1]] for idx in random_index])\n",
    "    # part_dataset_1d_batch = torch.stack([dataset_1d[idx[0]:idx[1]] for idx in random_index])\n",
    "    \n",
    "    scores = rl_model(part_dataset_1m_batch.float().reshape(-1, 240, 19), part_dataset_1d_batch.float().reshape(-1, 60, 19))\n",
    "\n",
    "    scores = scores.view(size, sample_step, group)\n",
    "\n",
    "    # Compute probabilities using softmax over the chromosome dimension\n",
    "    probabilities = F.softmax(scores, dim=-1)  # Shape: (batch_size, sample_step, num_chromosomes)\n",
    "\n",
    "    # Average probabilities over the sample_step dimension to get one distribution per batch\n",
    "    avg_probabilities = probabilities.mean(dim=1)  # Shape: (batch_size, num_chromosomes)\n",
    "\n",
    "    # Select top-k chromosomes based on average probabilities\n",
    "    selected_indices = torch.multinomial(avg_probabilities, num_samples=max_selected, replacement=False)  # Shape: (batch_size, max_selected)\n",
    "    # Select top-k chromosomes based on average probabilities\n",
    "    # _, selected_indices = avg_probabilities.topk(k=max_selected, dim=-1)  # Shape: (batch_size, max_selected)\n",
    "    \n",
    "    # # For each sample in the batch, simulate the selected chromosomes\n",
    "    # rewards = torch.zeros(size).to(device)\n",
    "    # for i in range(size):\n",
    "    #     selected_chromosomes = selected_indices[i]  # Indices of selected chromosomes\n",
    "    #     # Implement 'simulate_chromosomes' function to simulate performance and compute reward\n",
    "    #     reward = torch.randn(size=(size, sample_step))\n",
    "    #     rewards[i] = reward.sum()\n",
    "        \n",
    "    rewards = calculate_rewards(inference_evolution, inference_model, best_chromosomes, selected_indices, part_dataset_1m_batch, part_dataset_1m_batch,\n",
    "                                max_selected, size, entry_pos_list, random_index, bb_macd_entry_index_list, data_1m, device)\n",
    "        \n",
    "    baseline = rewards.mean()\n",
    "    step_baseline += baseline\n",
    "    # Compute loss using policy gradient (REINFORCE algorithm)\n",
    "    log_probs = torch.log(avg_probabilities + 1e-8)  # Avoid log(0)\n",
    "    selected_log_probs = log_probs.gather(1, selected_indices)  # Shape: (batch_size, max_selected)\n",
    "\n",
    "    # Sum log probabilities over the selected chromosomes\n",
    "    sum_log_probs = selected_log_probs.sum(dim=1)  # Shape: (batch_size,)\n",
    "\n",
    "    # Compute the policy gradient loss\n",
    "    loss = -((rewards - baseline) * sum_log_probs).mean()\n",
    "            \n",
    "    loss.backward()\n",
    "    if (i + 1) % accumulation_steps == 0:\n",
    "        optimizer.step()\n",
    "        optimizer.zero_grad()\n",
    "        print(step_baseline)\n",
    "        step_baseline = 0.\n"
   ]
  },
  {
   "cell_type": "code",
   "execution_count": null,
   "metadata": {},
   "outputs": [],
   "source": []
  },
  {
   "cell_type": "code",
   "execution_count": null,
   "metadata": {},
   "outputs": [],
   "source": []
  }
 ],
 "metadata": {
  "kernelspec": {
   "display_name": "Python 3",
   "language": "python",
   "name": "python3"
  },
  "language_info": {
   "codemirror_mode": {
    "name": "ipython",
    "version": 3
   },
   "file_extension": ".py",
   "mimetype": "text/x-python",
   "name": "python",
   "nbconvert_exporter": "python",
   "pygments_lexer": "ipython3",
   "version": "3.8.10"
  }
 },
 "nbformat": 4,
 "nbformat_minor": 2
}
