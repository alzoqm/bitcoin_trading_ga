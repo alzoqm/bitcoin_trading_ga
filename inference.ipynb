{
 "cells": [
  {
   "cell_type": "code",
   "execution_count": 1,
   "metadata": {},
   "outputs": [],
   "source": [
    "# train.py\n",
    "\n",
    "import os\n",
    "import torch\n",
    "import pandas as pd\n",
    "import numpy as np\n",
    "import warnings\n",
    "warnings.filterwarnings(action='ignore')\n",
    "\n",
    "from data_loader import load_data_1m\n",
    "from feature_calculations import (\n",
    "    resample_data, calculate_MA_data, calculate_ema_bollinger_bands, calculate_rsi,\n",
    "    calculate_macd, calculate_stochastic_oscillator, calculate_adx, calculate_atr,\n",
    "    calculate_obv, calculate_williams_r, base_feature_fn, cyclic_encode_fn, log_transform\n",
    ")\n",
    "from strategies import BB_fitness_fn, BB_MACD_fitness_fn\n",
    "from dataset import make_dataset, replace_nan_with_zero\n",
    "from train_functions_inference import inference, fitness_fn, generation_valid, generation_test\n",
    "\n",
    "from Prescriptor import Prescriptor\n",
    "from Evolution.crossover import UniformCrossover, WeightedSumCrossover, DifferentialEvolutionOperator\n",
    "from Evolution.mutation import MultiplyNormalMutation, MultiplyUniformMutation, AddNormalMutation, AddUniformMutation, ChainMutation, FlipSignMutation\n",
    "from Evolution.mutation import RandomValueMutation\n",
    "from Evolution.selection import RouletteSelection, TournamentSelection, ParetoLexsortSelection\n",
    "from Evolution import Evolution\n",
    "\n",
    "\n",
    "\n",
    "from binance.client import Client\n",
    "import time\n",
    "from datetime import datetime, timedelta"
   ]
  },
  {
   "cell_type": "code",
   "execution_count": 2,
   "metadata": {},
   "outputs": [],
   "source": [
    "WINDOW_SIZE_M = 240\n",
    "WINDOW_SIZE_D = 60"
   ]
  },
  {
   "cell_type": "code",
   "execution_count": 3,
   "metadata": {},
   "outputs": [],
   "source": [
    "# Initialize the Binance client\n",
    "API_KEY = '5fdHtvB3ecaRqEojTnaaA697Owg1AemEYvw9aQF90mZ9Hwx3I4YChQS9sOECN0lP'\n",
    "API_SECRET = 'AHYpkH1c2u1crNI8xDjO8VjLn4QBuidcsiRsv20E38Qorzo1J3Fsg6rUocYyifMp'\n",
    "client = Client(API_KEY, API_SECRET)\n",
    "\n",
    "# Define the trading pair and time frame\n",
    "symbol = 'BTCUSDT'\n",
    "interval = Client.KLINE_INTERVAL_1MINUTE\n",
    "\n",
    "# Calculate the start date (60 days ago)\n",
    "start_date = (datetime.utcnow() - timedelta(days=70)).strftime('%d %b, %Y %H:%M:%S')\n",
    "\n",
    "# Fetch historical data\n",
    "klines = client.get_historical_klines(symbol, interval, start_date)\n",
    "\n",
    "\n",
    "# 데이터프레임으로 변환\n",
    "cols = ['Open time', 'Open', 'High', 'Low', 'Close', 'Volume', \n",
    "        'Close time', 'Quote asset volume', 'Number of trades', \n",
    "        'Taker buy base asset volume', 'Taker buy quote asset volume', 'Ignore']\n",
    "df = pd.DataFrame(klines, columns=cols)\n",
    "\n",
    "# 시간 형식 변환\n",
    "df['Open time'] = pd.to_datetime(df['Open time'], unit='ms')\n",
    "df['Close time'] = pd.to_datetime(df['Close time'], unit='ms')\n",
    "\n",
    "# df['Open'] = df['Open'].astype(float)\n",
    "# df['High'] = df['High'].astype(float)\n",
    "# df['Low'] = df['Low'].astype(float)\n",
    "# df['Close'] = df['Close'].astype(float)\n",
    "\n",
    "# Function to fetch the latest kline and update the DataFrame\n",
    "def update_data_frame(df, symbol, interval):\n",
    "    # Fetch the latest kline\n",
    "    kline = client.get_klines(symbol=symbol, interval=interval, limit=1)\n",
    "    # 데이터프레임으로 변환\n",
    "    cols = ['Open time', 'Open', 'High', 'Low', 'Close', 'Volume', \n",
    "            'Close time', 'Quote asset volume', 'Number of trades', \n",
    "            'Taker buy base asset volume', 'Taker buy quote asset volume', 'Ignore']\n",
    "    new_df = pd.DataFrame(klines, columns=cols)\n",
    "\n",
    "    # 시간 형식 변환\n",
    "    new_df['Open time'] = pd.to_datetime(new_df['Open time'], unit='ms')\n",
    "    new_df['Close time'] = pd.to_datetime(new_df['Close time'], unit='ms')\n",
    "    \n",
    "    # Concatenate the new data with the existing DataFrame\n",
    "    df = pd.concat([df, new_df], ignore_index=True)\n",
    "    # Drop the oldest data to maintain the DataFrame size\n",
    "    if len(df) > 60 * 24 * 70:\n",
    "        df = df.iloc[1:].reset_index(drop=True)\n",
    "    return df\n"
   ]
  },
  {
   "cell_type": "code",
   "execution_count": 4,
   "metadata": {},
   "outputs": [],
   "source": [
    "def preprocessing_data(data_1m, data_1d, window_size_m, window_size_d):\n",
    "    data_1d, ma_cols_1d, ma_cols_rel_1d = calculate_MA_data(data_1d, window_size_d, 'EMA', '_1d')\n",
    "    data_1d, bb_cols_1d, bb_cols_rel_1d = calculate_ema_bollinger_bands(data_1d, window_size_d, extra_str='_1d')\n",
    "    data_1d, rsi_cols_1d = calculate_rsi(data_1d, window=20, extra_str='_1d')\n",
    "    data_1d, macd_cols_1d = calculate_macd(data_1d, 20, 120, 60, extra_str='_1d')\n",
    "    data_1d, stoch_cols_1d = calculate_stochastic_oscillator(data_1d, window_size_d, 20, extra_str='_1d')\n",
    "    data_1d, adx_cols_1d = calculate_adx(data_1d, window_size_d, extra_str='_1d')\n",
    "    data_1d, atr_cols_1d = calculate_atr(data_1d, window_size_d, extra_str='_1d')\n",
    "    data_1d, obv_cols_1d = calculate_obv(data_1d, extra_str='_1d')\n",
    "    data_1d, will_cols_1d = calculate_williams_r(data_1d, window_size_d, extra_str='_1d')\n",
    "    data_1d, base_feature_1d = base_feature_fn(data_1d, extra_str='_1d')\n",
    "    data_1d, cyclice_encoding_1d = cyclic_encode_fn(data_1d, 'Close time', 'day_of_year')\n",
    "\n",
    "    # For 1M Data\n",
    "    data_1m, ma_cols, ma_cols_rel = calculate_MA_data(data_1m, window_size_m, 'EMA')\n",
    "    data_1m, bb_cols, bb_cols_rel = calculate_ema_bollinger_bands(data_1m, window_size_m)\n",
    "    data_1m, rsi_cols = calculate_rsi(data_1m, window=60)\n",
    "    data_1m, macd_cols = calculate_macd(data_1m, 60, 600, window_size_m)\n",
    "    data_1m, stoch_cols = calculate_stochastic_oscillator(data_1m, window_size_m, 60)\n",
    "    data_1m, adx_cols = calculate_adx(data_1m, window_size_m)\n",
    "    data_1m, atr_cols = calculate_atr(data_1m, window_size_m)\n",
    "    data_1m, obv_cols = calculate_obv(data_1m)\n",
    "    data_1m, will_cols = calculate_williams_r(data_1m, window_size_m)\n",
    "    data_1m, base_feature = base_feature_fn(data_1m)\n",
    "    data_1m, cyclice_encoding = cyclic_encode_fn(data_1m, 'Open time')\n",
    "\n",
    "    data_1m, short_ma_cols, short_ma_cols_rel = calculate_MA_data(data_1m, 60, 'EMA')\n",
    "    data_1m, long_ma_cols, long_ma_cols_rel = calculate_MA_data(data_1m, 180, 'EMA')\n",
    "\n",
    "    # Prepare Feature Columns\n",
    "    drop_column = [\n",
    "        'Open time', 'Close time', 'Quote asset volume', 'Ignore',\n",
    "        'Number of trades', 'Taker buy base asset volume', 'Taker buy quote asset volume'\n",
    "    ]\n",
    "    feature_column = (\n",
    "        ma_cols_rel + bb_cols_rel + rsi_cols + macd_cols + stoch_cols +\n",
    "        adx_cols + will_cols + base_feature + cyclice_encoding  # Excluding obv and atr\n",
    "    )\n",
    "    feature_column_1d = (\n",
    "        ma_cols_rel_1d + bb_cols_rel_1d + rsi_cols_1d + macd_cols_1d + stoch_cols_1d +\n",
    "        adx_cols_1d + will_cols_1d + base_feature_1d + cyclice_encoding_1d\n",
    "    )\n",
    "\n",
    "\n",
    "    # Apply Log Transform\n",
    "    for feature in feature_column:\n",
    "        data_1m[feature] = log_transform(data_1m[feature])\n",
    "\n",
    "    for feature in feature_column_1d:\n",
    "        data_1d[feature] = log_transform(data_1d[feature])\n",
    "        \n",
    "        \n",
    "    return data_1m, data_1d, feature_column, feature_column_1d"
   ]
  },
  {
   "cell_type": "code",
   "execution_count": 5,
   "metadata": {},
   "outputs": [
    {
     "name": "stdout",
     "output_type": "stream",
     "text": [
      "Execution time: 1.04 seconds, sleeping for 40.40 seconds.\n"
     ]
    }
   ],
   "source": [
    "# Mock investment parameters\n",
    "initial_investment_krw = 5000000\n",
    "try:\n",
    "    while True:\n",
    "        start_time = time.time()\n",
    "        df = update_data_frame(df, symbol, interval)\n",
    "        df_1d = resample_data(df, '1D')\n",
    "        df_1d['Close time'] = df_1d.index\n",
    "        df_1d = df_1d.reset_index(drop=True)\n",
    "        df_1m = df.iloc[-WINDOW_SIZE_M*2:].reset_index(drop=True)\n",
    "\n",
    "        df_1d['Open'] = df_1d['Open'].astype(float)\n",
    "        df_1d['High'] = df_1m['High'].astype(float)\n",
    "        df_1d['Low'] = df_1d['Low'].astype(float)\n",
    "        df_1d['Close'] = df_1d['Close'].astype(float)\n",
    "        \n",
    "        df_1m['Open'] = df_1m['Open'].astype(float)\n",
    "        df_1m['High'] = df_1m['High'].astype(float)\n",
    "        df_1m['Low'] = df_1m['Low'].astype(float)\n",
    "        df_1m['Close'] = df_1m['Close'].astype(float)\n",
    "        \n",
    "        df_1m, df_1d, feature_column, feature_column_1d = preprocessing_data(df_1m, df_1d, WINDOW_SIZE_M, WINDOW_SIZE_D)\n",
    "        \n",
    "        end_time = time.time()\n",
    "        execution_time = end_time - start_time\n",
    "        current_time = datetime.utcnow()\n",
    "        seconds_to_next_minute = 60 - current_time.second - current_time.microsecond / 1_000_000\n",
    "        sleep_time = max(0, seconds_to_next_minute - execution_time)\n",
    "        print(f\"Execution time: {execution_time:.2f} seconds, sleeping for {sleep_time:.2f} seconds.\")\n",
    "        time.sleep(sleep_time)\n",
    "        break\n",
    "except KeyboardInterrupt:\n",
    "    print(\"Stopped by user\")"
   ]
  },
  {
   "cell_type": "code",
   "execution_count": 8,
   "metadata": {},
   "outputs": [
    {
     "data": {
      "text/plain": [
       "EMA_240_rel          0.133756\n",
       "Upper_BB_240_rel     0.275637\n",
       "Lower_BB_240_rel     0.472250\n",
       "RSI_60               1.452559\n",
       "MACD_60_600          0.341151\n",
       "Signal_Line_240      0.351986\n",
       "%K_240               3.196181\n",
       "%D_60                3.414258\n",
       "ADX_240              1.397711\n",
       "Williams_%R_240     -3.196181\n",
       "open_close_diff     -0.014123\n",
       "open_high_diff      -0.019051\n",
       "open_low_diff        0.000000\n",
       "close_high_diff     -0.004998\n",
       "close_low_diff       0.014121\n",
       "high_low_diff        0.019048\n",
       "close_diff           0.014111\n",
       "minute_of_day_sin    0.689142\n",
       "minute_of_day_cos    0.118848\n",
       "Name: 479, dtype: float64"
      ]
     },
     "execution_count": 8,
     "metadata": {},
     "output_type": "execute_result"
    }
   ],
   "source": [
    "df_1m[feature_column].iloc[-1]"
   ]
  },
  {
   "cell_type": "code",
   "execution_count": 9,
   "metadata": {},
   "outputs": [
    {
     "data": {
      "text/plain": [
       "EMA_60_rel__1d         2.144596\n",
       "Upper_BB_60_rel__1d    3.100811\n",
       "Lower_BB_60_rel__1d    3.618809\n",
       "RSI_20__1d             0.462891\n",
       "MACD_20_120__1d        2.950426\n",
       "Signal_Line_60__1d     2.681675\n",
       "%K_60__1d              3.952541\n",
       "%D_20__1d                   NaN\n",
       "ADX_60__1d                  NaN\n",
       "Williams_%R_60__1d    -3.952541\n",
       "open_close_diff__1d    0.188784\n",
       "open_high_diff__1d     0.498750\n",
       "open_low_diff__1d      0.489317\n",
       "close_high_diff__1d    0.364501\n",
       "close_low_diff__1d     0.353683\n",
       "high_low_diff__1d     -0.015440\n",
       "close_diff__1d        -0.189142\n",
       "day_of_year_sin       -0.143502\n",
       "day_of_year_cos        0.687141\n",
       "Name: 70, dtype: float64"
      ]
     },
     "execution_count": 9,
     "metadata": {},
     "output_type": "execute_result"
    }
   ],
   "source": [
    "df_1d[feature_column_1d].iloc[-1]"
   ]
  },
  {
   "cell_type": "code",
   "execution_count": null,
   "metadata": {},
   "outputs": [],
   "source": []
  }
 ],
 "metadata": {
  "kernelspec": {
   "display_name": "Python 3",
   "language": "python",
   "name": "python3"
  },
  "language_info": {
   "codemirror_mode": {
    "name": "ipython",
    "version": 3
   },
   "file_extension": ".py",
   "mimetype": "text/x-python",
   "name": "python",
   "nbconvert_exporter": "python",
   "pygments_lexer": "ipython3",
   "version": "3.8.10"
  }
 },
 "nbformat": 4,
 "nbformat_minor": 2
}
