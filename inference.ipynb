{
 "cells": [
  {
   "cell_type": "code",
   "execution_count": 1,
   "metadata": {},
   "outputs": [],
   "source": [
    "# train.py\n",
    "\n",
    "import os\n",
    "import torch\n",
    "import numpy as np\n",
    "import warnings\n",
    "import pickle\n",
    "warnings.filterwarnings(action='ignore')\n",
    "\n",
    "from data_loader import load_data_1m\n",
    "from feature_calculations_2 import (\n",
    "    resample_data, calculate_MA_data, calculate_ema_bollinger_bands, calculate_rsi,\n",
    "    calculate_macd, calculate_stochastic_oscillator, calculate_adx, calculate_atr,\n",
    "    calculate_obv, calculate_williams_r, base_feature_fn, cyclic_encode_fn, calculate_support_resistance_numba\n",
    ")\n",
    "from strategies import BB_fitness_fn, BB_MACD_fitness_fn\n",
    "from dataset import make_dataset, replace_nan_with_zero\n",
    "from train_functions_inference_bi_2 import inference, fitness_fn, generation_valid, generation_test\n",
    "\n",
    "from Prescriptor import Prescriptor, CryptoModelTCN\n",
    "from Evolution.crossover import UniformCrossover, WeightedSumCrossover, DifferentialEvolutionOperator, CenDE_DOBLOperator, SkipCrossover\n",
    "from Evolution.mutation import MultiplyNormalMutation, MultiplyUniformMutation, AddNormalMutation, AddUniformMutation, ChainMutation, FlipSignMutation\n",
    "from Evolution.mutation import RandomValueMutation\n",
    "from Evolution.selection import RouletteSelection, TournamentSelection, ParetoLexsortSelection\n",
    "from Evolution import Evolution"
   ]
  },
  {
   "cell_type": "code",
   "execution_count": 2,
   "metadata": {},
   "outputs": [],
   "source": [
    "# Load Data\n",
    "data_1m = load_data_1m('/root/daily/bit/data/1min_bitusdt_test.pkl')\n",
    "# data_1m = data_1m.iloc[-200000:].reset_index(drop=True)\n",
    "# data_1m = data_1m.iloc[3200000:].reset_index(drop=True)"
   ]
  },
  {
   "cell_type": "code",
   "execution_count": 3,
   "metadata": {},
   "outputs": [],
   "source": [
    "# data_1m = data_1m.iloc[2000000:2700000].reset_index(drop=True)"
   ]
  },
  {
   "cell_type": "code",
   "execution_count": 4,
   "metadata": {},
   "outputs": [
    {
     "name": "stderr",
     "output_type": "stream",
     "text": [
      "100%|██████████| 3761060/3761060 [07:05<00:00, 8842.28it/s] \n"
     ]
    }
   ],
   "source": [
    "\n",
    "data_1d = resample_data(data_1m, '1D')\n",
    "data_1d['Close time'] = data_1d.index\n",
    "data_1d = data_1d.reset_index(drop=True)\n",
    "\n",
    "# Apply Feature Calculations\n",
    "# For 1D Data\n",
    "data_1d, ma_cols_1d, ma_cols_rel_1d = calculate_MA_data(data_1d, 60, 'EMA', '_1d')\n",
    "data_1d, bb_cols_1d, bb_cols_rel_1d = calculate_ema_bollinger_bands(data_1d, 60, extra_str='_1d')\n",
    "data_1d, rsi_cols_1d = calculate_rsi(data_1d, window=20, extra_str='_1d')\n",
    "data_1d, macd_cols_1d = calculate_macd(data_1d, 20, 120, 60, extra_str='_1d')\n",
    "data_1d, stoch_cols_1d = calculate_stochastic_oscillator(data_1d, 60, 20, extra_str='_1d')\n",
    "data_1d, adx_cols_1d = calculate_adx(data_1d, 60, extra_str='_1d')\n",
    "data_1d, atr_cols_1d = calculate_atr(data_1d, 60, extra_str='_1d')\n",
    "data_1d, obv_cols_1d = calculate_obv(data_1d, extra_str='_1d')\n",
    "data_1d, will_cols_1d = calculate_williams_r(data_1d, 60, extra_str='_1d')\n",
    "data_1d, sr_col_1d = calculate_support_resistance_numba(data_1d, window=60, extra_str='_1d')\n",
    "data_1d, base_feature_1d = base_feature_fn(data_1d, extra_str='_1d', alpha=10)\n",
    "data_1d, cyclice_encoding_1d = cyclic_encode_fn(data_1d, 'Close time', 'day_of_week')\n",
    "\n",
    "# For 1M Data\n",
    "data_1m, ma_cols, ma_cols_rel = calculate_MA_data(data_1m, 240, 'EMA')\n",
    "data_1m, bb_cols, bb_cols_rel = calculate_ema_bollinger_bands(data_1m, 240)\n",
    "data_1m, macd_cols = calculate_macd(data_1m, 60, 600, 240)\n",
    "data_1m, rsi_cols = calculate_rsi(data_1m, window=60)\n",
    "data_1m, stoch_cols = calculate_stochastic_oscillator(data_1m, 240, 60)\n",
    "data_1m, adx_cols = calculate_adx(data_1m, 240)\n",
    "data_1m, atr_cols = calculate_atr(data_1m, 240)\n",
    "data_1m, obv_cols = calculate_obv(data_1m)\n",
    "data_1m, will_cols = calculate_williams_r(data_1m, 240)\n",
    "data_1m, sr_col = calculate_support_resistance_numba(data_1m, window=240)\n",
    "data_1m, base_feature = base_feature_fn(data_1m, alpha=100)\n",
    "data_1m, cyclice_encoding = cyclic_encode_fn(data_1m, 'Open time')\n",
    "\n",
    "data_1m, short_ma_cols, short_ma_cols_rel = calculate_MA_data(data_1m, 60, 'EMA')\n",
    "data_1m, long_ma_cols, long_ma_cols_rel = calculate_MA_data(data_1m, 180, 'EMA')\n",
    "\n",
    "data_1m, short_ma_cols, short_ma_cols_rel = calculate_MA_data(data_1m, 20, 'EMA')\n",
    "data_1m, long_ma_cols, long_ma_cols_rel = calculate_MA_data(data_1m, 60, 'EMA')\n",
    "data_1m, _, _ = calculate_ema_bollinger_bands(data_1m, 60)\n",
    "\n",
    "# Prepare Feature Columns\n",
    "drop_column = [\n",
    "    'Open time', 'Close time', 'Quote asset volume', 'Ignore',\n",
    "    'Number of trades', 'Taker buy base asset volume', 'Taker buy quote asset volume'\n",
    "]\n",
    "\n",
    "test_column = ['Quote asset volume', 'Number of trades', 'Taker buy base asset volume',\n",
    "               'Taker buy quote asset volume']\n",
    "# feature_column = (\n",
    "#     test_column + cyclice_encoding + ma_cols_rel + bb_cols_rel + rsi_cols + macd_cols + stoch_cols +\n",
    "#     adx_cols + will_cols + sr_col + base_feature  # Excluding obv and atr\n",
    "# )\n",
    "\n",
    "feature_column = (\n",
    "    test_column + cyclice_encoding +  base_feature  # Excluding obv and atr\n",
    ")\n",
    "feature_column_1d = (\n",
    "    test_column + cyclice_encoding_1d + ma_cols_rel_1d + bb_cols_rel_1d + rsi_cols_1d + macd_cols_1d + stoch_cols_1d +\n",
    "    adx_cols_1d + will_cols_1d + sr_col_1d + base_feature_1d\n",
    ")\n",
    "\n",
    "\n",
    "# bb_entry_pos_list, patience_list, bb_entry_index_list = BB_fitness_fn(data_1m)\n",
    "bb_macd_entry_pos_list, patience_list, bb_macd_entry_index_list = BB_MACD_fitness_fn(data_1m, 240, 60, 180)\n",
    "# bb_macd_entry_pos_list, patience_list, bb_macd_entry_index_list = simple_fitness_fn(data_1m, 240, 60, 180)\n",
    "# bb_macd_entry_pos_list, patience_list, bb_macd_entry_index_list = BB_MACD_fitness_fn(data_1m, 60, 20, 60)\n",
    "\n",
    "# Prepare Dataset\n",
    "data_tensor = make_dataset(\n",
    "    data_1m, data_1d,\n",
    "    using_column=feature_column, using_column_1d=feature_column_1d,\n",
    "    window_size=240, window_size_1d=60,\n",
    "    entry_pos_list=bb_macd_entry_pos_list, patience_list=patience_list,\n",
    "    use_1d_data=True\n",
    ")\n",
    "entry_pos_list = np.array(bb_macd_entry_pos_list)[np.array(bb_macd_entry_pos_list) != 'hold']\n",
    "\n",
    "dataset_1m = []\n",
    "dataset_1d = []\n",
    "skip_data_cnt = 0\n",
    "for data in data_tensor:\n",
    "    if len(data[0]) == 240 and len(data[1]) == 60:\n",
    "        dataset_1m.append(torch.from_numpy(data[0]).unsqueeze(dim=0))\n",
    "        dataset_1d.append(torch.from_numpy(data[1]).unsqueeze(dim=0))\n",
    "    else:\n",
    "        skip_data_cnt += 1\n",
    "dataset_1m = torch.cat(dataset_1m, dim=0)\n",
    "dataset_1d = torch.cat(dataset_1d, dim=0)\n",
    "\n",
    "# Avoid division by zero by replacing zero denominators with a small epsilon value\n",
    "epsilon = 1e-10\n",
    "dataset_1m[:, :, :4] = dataset_1m[:, :, :4] / (torch.mean(dataset_1m[:, :, :4], dim=1).unsqueeze(dim=1) + epsilon)\n",
    "dataset_1d[:, :, :4] = dataset_1d[:, :, :4] / (torch.mean(dataset_1d[:, :, :4], dim=1).unsqueeze(dim=1) + epsilon)\n",
    "\n",
    "dataset_1m = replace_nan_with_zero(dataset_1m)\n",
    "dataset_1d = replace_nan_with_zero(dataset_1d)\n"
   ]
  },
  {
   "cell_type": "code",
   "execution_count": 5,
   "metadata": {},
   "outputs": [
    {
     "name": "stdout",
     "output_type": "stream",
     "text": [
      "Total parameters: 819144\n"
     ]
    }
   ],
   "source": [
    "torch.set_grad_enabled(False)\n",
    "torch.backends.cudnn.benchmark = True\n",
    "\n",
    "state_dict_path = '/root/daily/bit_4/generation/generation_13.pt'\n",
    "if os.path.exists(state_dict_path):\n",
    "    state_dict = torch.load(state_dict_path)\n",
    "    start_gen = state_dict['generation'] + 1\n",
    "    best_profit = state_dict['best_profit']\n",
    "    best_chromosomes = state_dict['best_chromosomes']\n",
    "\n",
    "# best_index = [i for i in range(len(best_profit))]\n",
    "# with open('/root/daily/bit/all_intersect_solution_index.pkl', 'rb') as f:\n",
    "#     best_index = pickle.load(f)\n",
    "\n",
    "best_index = [i for i in range(len(best_profit))]\n",
    "# best_index = [ 3,  7,  8,  9, 11, 21, 24, 30, 31, 34, 37, 39, 41] \n",
    "\n",
    "# Evolution Setup\n",
    "device = 'cuda:1'\n",
    "group = len(best_index)\n",
    "prescriptor = Prescriptor(\n",
    "    basic_block=CryptoModelTCN, \n",
    "    small_input_dim=14, \n",
    "    large_input_dim=25,\n",
    "    fc_hidden_size=24,\n",
    "    small_lstm_hidden_dim=24,\n",
    "    large_lstm_hidden_dim=24,\n",
    "    output_dim=16, \n",
    "    after_input_dim=19, \n",
    "    after_hidden_dim=8, \n",
    "    after_output_dim=5, \n",
    "    num_blocks=group,\n",
    ").to(device).eval()\n",
    "\n",
    "total_param = sum(p.numel() for p in prescriptor.parameters())\n",
    "print(f\"Total parameters: {total_param}\")\n",
    "\n",
    "selection = RouletteSelection(elite_num=2000, parents_num=4000, minimize=False)\n",
    "# selection = ParetoLexsortSelection(elite_num=2000, parents_num=4000,\n",
    "#                                     priority=[], prior_ratio= [],\n",
    "#                                     prob_method= 'softmax',minimize=False)\n",
    "crossover = DifferentialEvolutionOperator()\n",
    "mutation = RandomValueMutation(mut_prob=0.05)\n",
    "evolution = Evolution(\n",
    "    prescriptor=prescriptor,\n",
    "    selection=selection,\n",
    "    crossover=crossover,\n",
    "    mutation=mutation\n",
    ")\n",
    "\n",
    "# start_gen = 0\n",
    "# best_profit = None\n",
    "# best_chromosomes = None\n",
    "\n",
    "\n",
    "#     prescriptor.load_state_dict(state_dict['prescriptor_state_dict'],strict=True)\n",
    "\n",
    "# # start_gen = 0\n",
    "\n",
    "# # # best_profit = None\n",
    "# # # best_chromosomes = None\n",
    "\n",
    "best_chromosomes = best_chromosomes[best_index]\n",
    "init_chromosomes, base_ch_shape, after_ch_shape, device = evolution.flatten_chromosomes()\n",
    "device = 'cuda:0'\n",
    "evolution.update_chromosomes(best_chromosomes, base_ch_shape, after_ch_shape, device)"
   ]
  },
  {
   "cell_type": "code",
   "execution_count": 6,
   "metadata": {},
   "outputs": [],
   "source": [
    "valid_skip_data_cnt = int(len(dataset_1m)*0.6) + skip_data_cnt\n",
    "test_skip_data_cnt = int(len(dataset_1m)*0.8) + skip_data_cnt"
   ]
  },
  {
   "cell_type": "code",
   "execution_count": 7,
   "metadata": {},
   "outputs": [],
   "source": [
    "chromosomes_size=len(best_index)\n",
    "window_size=240\n",
    "gen_loop=100\n",
    "best_size=len(best_index)\n",
    "elite_size=len(best_index)\n",
    "profit_init=1\n"
   ]
  },
  {
   "cell_type": "code",
   "execution_count": 8,
   "metadata": {},
   "outputs": [
    {
     "name": "stderr",
     "output_type": "stream",
     "text": [
      "Inference Progress: 100%|██████████| 22/22 [00:04<00:00,  4.86it/s]\n",
      "100%|█████████▉| 45020/45022 [05:00<00:00, 149.98it/s]\n"
     ]
    }
   ],
   "source": [
    "total_profit, tracking_info = generation_test(\n",
    "    data_1m=data_1m,\n",
    "    dataset_1m=dataset_1m,\n",
    "    dataset_1d=dataset_1d,\n",
    "    prescriptor=prescriptor,\n",
    "    start_data_cnt=skip_data_cnt,\n",
    "    skip_data_cnt=skip_data_cnt,\n",
    "    # end_data_cnt=valid_skip_data_cnt,\n",
    "    end_data_cnt=len(dataset_1m)-2+skip_data_cnt,\n",
    "    chromosomes_size=chromosomes_size,\n",
    "    window_size=window_size,\n",
    "    profit_init=profit_init,\n",
    "    entry_index_list=bb_macd_entry_index_list,\n",
    "    entry_pos_list=entry_pos_list,\n",
    "    device=device,\n",
    ")"
   ]
  },
  {
   "cell_type": "code",
   "execution_count": 9,
   "metadata": {},
   "outputs": [],
   "source": [
    "now_profit_shape = np.vstack(tracking_info['now_profit'])\n",
    "profit_shape = np.vstack(tracking_info['profit'])\n",
    "pos_list_shape = np.vstack(tracking_info['pos_list'])\n",
    "leverage_shape = np.vstack(tracking_info['leverage_ratio'])\n",
    "enter_ratio_shape = np.vstack(tracking_info['enter_ratio'])\n",
    "price_shape = np.vstack(tracking_info['price_list'])\n",
    "additional_count_shape = np.vstack(tracking_info['additional_count'])\n",
    "cumulative_returns_shape = np.vstack(tracking_info['cumulative_returns'])"
   ]
  },
  {
   "cell_type": "code",
   "execution_count": 10,
   "metadata": {},
   "outputs": [
    {
     "data": {
      "text/plain": [
       "Text(0, 0.5, 'Price')"
      ]
     },
     "execution_count": 10,
     "metadata": {},
     "output_type": "execute_result"
    },
    {
     "data": {
      "image/png": "[encoded data removed]",
      "text/plain": [
       "<Figure size 720x864 with 3 Axes>"
      ]
     },
     "metadata": {
      "needs_background": "light"
     },
     "output_type": "display_data"
    }
   ],
   "source": [
    "import matplotlib.pyplot as plt\n",
    "\n",
    "fig, axs = plt.subplots(3, 1, figsize=(10, 12))\n",
    "\n",
    "# Plot cumulative returns\n",
    "axs[0].plot(cumulative_returns_shape)\n",
    "axs[0].set_title('Cumulative Returns')\n",
    "axs[0].set_xlabel('Index')\n",
    "axs[0].set_ylabel('Returns')\n",
    "\n",
    "# # Plot leverage\n",
    "# axs[1].plot(leverage_shape[:, 55])\n",
    "# axs[1].set_title('Leverage')\n",
    "# axs[1].set_xlabel('Index')\n",
    "# axs[1].set_ylabel('Leverage Ratio')\n",
    "\n",
    "# Plot data_1m['Close']\n",
    "axs[2].plot(data_1m['Close']/data_1m['Close'].iloc[0])\n",
    "axs[2].set_title('Close Prices')\n",
    "axs[2].set_xlabel('Index')\n",
    "axs[2].set_ylabel('Price')\n"
   ]
  },
  {
   "cell_type": "code",
   "execution_count": null,
   "metadata": {},
   "outputs": [],
   "source": [
    "train_profit = generation_test(\n",
    "    data_1m=data_1m,\n",
    "    dataset_1m=dataset_1m,\n",
    "    dataset_1d=dataset_1d,\n",
    "    prescriptor=prescriptor,\n",
    "    start_data_cnt=skip_data_cnt,\n",
    "    skip_data_cnt=skip_data_cnt,\n",
    "    end_data_cnt=valid_skip_data_cnt,\n",
    "    # end_data_cnt=len(dataset_1m)-2+skip_data_cnt,\n",
    "    chromosomes_size=chromosomes_size,\n",
    "    window_size=window_size,\n",
    "    profit_init=profit_init,\n",
    "    entry_index_list=bb_macd_entry_index_list,\n",
    "    entry_pos_list=entry_pos_list,\n",
    "    device=device\n",
    ")"
   ]
  },
  {
   "cell_type": "code",
   "execution_count": null,
   "metadata": {},
   "outputs": [],
   "source": [
    "valid_profit = generation_test(\n",
    "    data_1m=data_1m,\n",
    "    dataset_1m=dataset_1m,\n",
    "    dataset_1d=dataset_1d,\n",
    "    prescriptor=prescriptor,\n",
    "    start_data_cnt=valid_skip_data_cnt,\n",
    "    skip_data_cnt=skip_data_cnt,\n",
    "    end_data_cnt=test_skip_data_cnt,\n",
    "    # end_data_cnt=len(dataset_1m)-2+skip_data_cnt,\n",
    "    chromosomes_size=chromosomes_size,\n",
    "    window_size=window_size,\n",
    "    profit_init=profit_init,\n",
    "    entry_index_list=bb_macd_entry_index_list,\n",
    "    entry_pos_list=entry_pos_list,\n",
    "    device=device\n",
    ")"
   ]
  },
  {
   "cell_type": "code",
   "execution_count": null,
   "metadata": {},
   "outputs": [],
   "source": [
    "best_profit[best_index][:, 4]"
   ]
  },
  {
   "cell_type": "code",
   "execution_count": null,
   "metadata": {},
   "outputs": [],
   "source": [
    "valid_profit[0][:, 6]"
   ]
  },
  {
   "cell_type": "code",
   "execution_count": null,
   "metadata": {},
   "outputs": [],
   "source": [
    "test_profit = generation_test(\n",
    "    data_1m=data_1m,\n",
    "    dataset_1m=dataset_1m,\n",
    "    dataset_1d=dataset_1d,\n",
    "    prescriptor=prescriptor,\n",
    "    start_data_cnt=test_skip_data_cnt,\n",
    "    skip_data_cnt=skip_data_cnt,\n",
    "    # end_data_cnt=valid_skip_data_cnt,\n",
    "    end_data_cnt=len(dataset_1m)-2+skip_data_cnt,\n",
    "    chromosomes_size=chromosomes_size,\n",
    "    window_size=window_size,\n",
    "    profit_init=profit_init,\n",
    "    entry_index_list=bb_macd_entry_index_list,\n",
    "    entry_pos_list=entry_pos_list,\n",
    "    device=device\n",
    ")"
   ]
  },
  {
   "cell_type": "code",
   "execution_count": null,
   "metadata": {},
   "outputs": [],
   "source": [
    "valid_test_profit = generation_test(\n",
    "    data_1m=data_1m,\n",
    "    dataset_1m=dataset_1m,\n",
    "    dataset_1d=dataset_1d,\n",
    "    prescriptor=prescriptor,\n",
    "    start_data_cnt=valid_skip_data_cnt,\n",
    "    skip_data_cnt=skip_data_cnt,\n",
    "    # end_data_cnt=valid_skip_data_cnt,\n",
    "    end_data_cnt=len(dataset_1m)-2+skip_data_cnt,\n",
    "    chromosomes_size=chromosomes_size,\n",
    "    window_size=window_size,\n",
    "    profit_init=profit_init,\n",
    "    entry_index_list=bb_macd_entry_index_list,\n",
    "    entry_pos_list=entry_pos_list,\n",
    "    device=device\n",
    ")"
   ]
  },
  {
   "cell_type": "code",
   "execution_count": 14,
   "metadata": {},
   "outputs": [],
   "source": [
    "valid_index = np.where(valid_profit[:, 6] > 1.5)[0]\n",
    "test_index = np.where(test_profit[:, 6] > 1.5)[0]"
   ]
  },
  {
   "cell_type": "code",
   "execution_count": 16,
   "metadata": {},
   "outputs": [],
   "source": [
    "train_solution_index = np.where((train_profit[:, 0] > .5) & (train_profit[:, 6] > 2.) & (train_profit[:, 5] < 60) & (train_profit[:, 4] > 0.7))[0]\n",
    "valid_solution_index = np.where((valid_profit[:, 0] > .5) & (valid_profit[:, 6] > 2.) & (valid_profit[:, 5] < 60) & (valid_profit[:, 4] > 0.7))[0]\n",
    "total_solution_index = np.where((total_profit[:, 0] > .5) & (total_profit[:, 6] > 2.) & (total_profit[:, 5] < 60) & (total_profit[:, 4] > 0.7))[0]\n",
    "valid_test_solution_index = np.where((valid_test_profit[:, 0] > .5) & (valid_test_profit[:, 6] > 2.) & (valid_test_profit[:, 5] < 60) & (valid_test_profit[:, 4] > 0.7))[0]\n",
    "test_solution_index = np.where((test_profit[:, 0] > .5) & (test_profit[:, 6] > 2.) & (test_profit[:, 5] < 60) & (test_profit[:, 4] > 0.7))[0]\n",
    "\n",
    "# Calculate the intersection of all solution indices\n",
    "all_intersect_solution_index = np.intersect1d(\n",
    "    np.intersect1d(train_solution_index, valid_solution_index),\n",
    "    np.intersect1d(total_solution_index, \n",
    "                   np.intersect1d(valid_test_solution_index, test_solution_index))\n",
    ")"
   ]
  },
  {
   "cell_type": "code",
   "execution_count": null,
   "metadata": {},
   "outputs": [],
   "source": [
    "test_profit"
   ]
  },
  {
   "cell_type": "code",
   "execution_count": null,
   "metadata": {},
   "outputs": [],
   "source": [
    "valid_skip_data_cnt"
   ]
  },
  {
   "cell_type": "code",
   "execution_count": null,
   "metadata": {},
   "outputs": [],
   "source": [
    "bb_macd_entry_index_list[valid_skip_data_cnt]"
   ]
  },
  {
   "cell_type": "code",
   "execution_count": null,
   "metadata": {},
   "outputs": [],
   "source": [
    "data_1m.iloc[:bb_macd_entry_index_list[valid_skip_data_cnt]]"
   ]
  },
  {
   "cell_type": "code",
   "execution_count": null,
   "metadata": {},
   "outputs": [],
   "source": [
    "data_1m.iloc[bb_macd_entry_index_list[valid_skip_data_cnt]:bb_macd_entry_index_list[test_skip_data_cnt]]"
   ]
  },
  {
   "cell_type": "code",
   "execution_count": null,
   "metadata": {},
   "outputs": [],
   "source": [
    "data_1m.iloc[bb_macd_entry_index_list[test_skip_data_cnt]:]"
   ]
  },
  {
   "cell_type": "code",
   "execution_count": null,
   "metadata": {},
   "outputs": [],
   "source": []
  }
 ],
 "metadata": {
  "kernelspec": {
   "display_name": "Python 3",
   "language": "python",
   "name": "python3"
  },
  "language_info": {
   "codemirror_mode": {
    "name": "ipython",
    "version": 3
   },
   "file_extension": ".py",
   "mimetype": "text/x-python",
   "name": "python",
   "nbconvert_exporter": "python",
   "pygments_lexer": "ipython3",
   "version": "3.8.10"
  }
 },
 "nbformat": 4,
 "nbformat_minor": 2
}
