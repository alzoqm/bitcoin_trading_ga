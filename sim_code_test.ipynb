{
 "cells": [
  {
   "cell_type": "code",
   "execution_count": 1,
   "metadata": {},
   "outputs": [],
   "source": [
    "# train.py\n",
    "from copy import deepcopy\n",
    "import os\n",
    "import torch\n",
    "import numpy as np\n",
    "import warnings\n",
    "warnings.filterwarnings(action='ignore')\n",
    "\n",
    "from data_loader import load_data_1m\n",
    "from feature_calculations import (\n",
    "    resample_data, calculate_MA_data, calculate_ema_bollinger_bands, calculate_rsi,\n",
    "    calculate_macd, calculate_stochastic_oscillator, calculate_adx, calculate_atr,\n",
    "    calculate_obv, calculate_williams_r, base_feature_fn, cyclic_encode_fn, log_transform\n",
    ")\n",
    "from strategies import BB_fitness_fn\n",
    "from dataset import make_dataset, replace_nan_with_zero\n",
    "from train_functions import inference, fitness_fn, generation, generation_valid, generation_test\n",
    "from train_functions import loss_cut_fn, calculate_same, calculate_diff, calculate_hold, calculate_now_profit, after_forward\n",
    "\n",
    "from Prescriptor import Prescriptor\n",
    "from Evolution.crossover import UniformCrossover, WeightedSumCrossover\n",
    "from Evolution.mutation import MultiplyNormalMutation, MultiplyUniformMutation, AddNormalMutation, AddUniformMutation, ChainMutation, FlipSignMutation\n",
    "from Evolution.selection import RouletteSelection, TournamentSelection\n",
    "from Evolution import Evolution"
   ]
  },
  {
   "cell_type": "code",
   "execution_count": 5,
   "metadata": {},
   "outputs": [
    {
     "name": "stdout",
     "output_type": "stream",
     "text": [
      "['hold' 'hold' 'shor']\n",
      "[ -1.  -1. 145.]\n",
      "[-1.         -1.         52.49791718]\n",
      "[-1.         -1.          0.54983395]\n",
      "[ 12.94  -27.625 -88.21 ]\n"
     ]
    }
   ],
   "source": [
    "\n",
    "# Test Case 3: All 'take' actions with entry_pos='short'\n",
    "# -------------------------------------------------------\n",
    "diff_prob = torch.tensor([\n",
    "    [0.1, 0.2, 0.7, 0.0, 0.3, 0.4],\n",
    "    [0.2, 0.3, 0.5, 0.0, 0.2, 0.3],\n",
    "    [0.3, 0.4, 0.3, 0.0, 0.1, 0.2]\n",
    "])\n",
    "pos_list = np.array(['long', 'long', 'long'])\n",
    "price_list = np.array([150.0, 250.0, 350.0])\n",
    "leverage_ratio = np.array([1.5, 2.5, 3.5])\n",
    "enter_ratio = np.array([0.4, 0.5, 0.6])\n",
    "profit = np.array([15.0, 25.0, 35.0])\n",
    "entry_pos = 'short'\n",
    "curr_close = 145.0\n",
    "\n",
    "pos_out, price_out, leverage_out, enter_out, profit_out = calculate_diff(\n",
    "    diff_prob, pos_list, price_list, leverage_ratio, enter_ratio, profit, entry_pos, curr_close\n",
    ")\n",
    "\n",
    "print(pos_out)\n",
    "print(price_out)\n",
    "print(leverage_out)\n",
    "print(enter_out)\n",
    "print(profit_out)\n"
   ]
  },
  {
   "cell_type": "code",
   "execution_count": 3,
   "metadata": {},
   "outputs": [
    {
     "data": {
      "text/plain": [
       "71.07"
      ]
     },
     "execution_count": 3,
     "metadata": {},
     "output_type": "execute_result"
    }
   ],
   "source": [
    "(200 - 105) / 200*100*3*0.5 - 3*0.1*0.6"
   ]
  },
  {
   "cell_type": "code",
   "execution_count": null,
   "metadata": {},
   "outputs": [],
   "source": []
  }
 ],
 "metadata": {
  "kernelspec": {
   "display_name": "Python 3",
   "language": "python",
   "name": "python3"
  },
  "language_info": {
   "codemirror_mode": {
    "name": "ipython",
    "version": 3
   },
   "file_extension": ".py",
   "mimetype": "text/x-python",
   "name": "python",
   "nbconvert_exporter": "python",
   "pygments_lexer": "ipython3",
   "version": "3.8.10"
  }
 },
 "nbformat": 4,
 "nbformat_minor": 2
}
